{
 "cells": [
  {
   "cell_type": "markdown",
   "metadata": {},
   "source": [
    "# Diabetes Prediction - MLDA Final Project\n",
    "Author: **Lorenzo La Corte** - S4784539\n",
    "\n",
    "Dataset: **Diabetes Dataset, from the N. Inst. of Diabetes & Diges. & Kidney Dis.**\n",
    "\n",
    "--------------------------------------------------------------------------------------------------------------------\n",
    "\n",
    "## Main Goals of the Analysis\n",
    "\n",
    "**Main Goal:**\n",
    "The objective is to predict based on diagnostic measurements whether a patient has diabetes.\n",
    "\n",
    "The first step will be eventually cleaning the dataset; once cleaned, I'll go further with an analysis that aims to spot the most relevant characteristics of the dataset, to make a more conscious and accurate model.\n",
    "\n",
    "**Content and Features**\n",
    "Several constraints were placed on the selection of these instances from a larger database. \n",
    "In particular, all patients here are females at least 21 years old of Pima Indian heritage.\n",
    "\n",
    "The columns in the dataset are: \n",
    "- Pregnancies: Number of times pregnant\n",
    "- Glucose: Plasma glucose concentration (2 hours oral glucose tolerance test)\n",
    "- BloodPressure: Diastolic blood pressure (mm Hg)\n",
    "- SkinThickness: Triceps skin fold thickness (mm)\n",
    "- Insulin: 2-Hour serum insulin (mu U/ml)\n",
    "- BMI: Body mass index (weight in kg/(height in m)^2)\n",
    "- DiabetesPedigreeFunction: Diabetes pedigree function\n",
    "- Age: Age (years)\n",
    "- Outcome: Class variable (0 or 1)\n",
    "\n",
    "--------------------------------------------------------------------------------------------------------------------\n",
    "\n",
    "## Index\n",
    "\n",
    "* [0.) Preliminary Operations](#0)\n",
    "\n",
    "\n",
    "* [1.) Feature Analysis](#1)\n",
    "\n",
    "\n",
    "* [2.) Feature Engineering](#2)\n",
    "\n",
    "\n",
    "* [3.) Outcome Prediction](#3)   \n",
    "\n",
    "\n",
    "* [4.) Random Forest Tuning](#4)   \n",
    "\n",
    "\n",
    "* [5.) Final Comments](#5)   "
   ]
  },
  {
   "cell_type": "markdown",
   "metadata": {},
   "source": [
    "# 0. Preliminary Operations <a id='0'></a>"
   ]
  },
  {
   "cell_type": "markdown",
   "metadata": {},
   "source": [
    "Import of fundamental libraries:"
   ]
  },
  {
   "cell_type": "code",
   "execution_count": 1,
   "metadata": {
    "colab": {
     "base_uri": "https://localhost:8080/"
    },
    "id": "DG6_rz0Y_1Tx",
    "outputId": "3a50a665-11e2-455f-eb48-a7f98e4c3f51"
   },
   "outputs": [],
   "source": [
    "import pandas as pd \n",
    "import matplotlib.pyplot as plt \n",
    "import numpy as np\n",
    "import scipy.stats as stats\n",
    "import scipy\n",
    "import seaborn as sns\n",
    "import math"
   ]
  },
  {
   "cell_type": "markdown",
   "metadata": {
    "id": "QYXUP9A4_cUe"
   },
   "source": [
    "Import of the dataset and visualization of the first rows:"
   ]
  },
  {
   "cell_type": "code",
   "execution_count": 2,
   "metadata": {
    "colab": {
     "base_uri": "https://localhost:8080/",
     "height": 302
    },
    "id": "PnExuBeH_YAz",
    "outputId": "a21e9113-e580-4f70-e5c6-49da01da5b79"
   },
   "outputs": [
    {
     "data": {
      "text/html": [
       "<div>\n",
       "<style scoped>\n",
       "    .dataframe tbody tr th:only-of-type {\n",
       "        vertical-align: middle;\n",
       "    }\n",
       "\n",
       "    .dataframe tbody tr th {\n",
       "        vertical-align: top;\n",
       "    }\n",
       "\n",
       "    .dataframe thead th {\n",
       "        text-align: right;\n",
       "    }\n",
       "</style>\n",
       "<table border=\"1\" class=\"dataframe\">\n",
       "  <thead>\n",
       "    <tr style=\"text-align: right;\">\n",
       "      <th></th>\n",
       "      <th>Pregnancies</th>\n",
       "      <th>Glucose</th>\n",
       "      <th>BloodPressure</th>\n",
       "      <th>SkinThickness</th>\n",
       "      <th>Insulin</th>\n",
       "      <th>BMI</th>\n",
       "      <th>DiabetesPedigreeFunction</th>\n",
       "      <th>Age</th>\n",
       "      <th>Outcome</th>\n",
       "    </tr>\n",
       "  </thead>\n",
       "  <tbody>\n",
       "    <tr>\n",
       "      <th>0</th>\n",
       "      <td>6</td>\n",
       "      <td>148</td>\n",
       "      <td>72</td>\n",
       "      <td>35</td>\n",
       "      <td>0</td>\n",
       "      <td>33.6</td>\n",
       "      <td>0.627</td>\n",
       "      <td>50</td>\n",
       "      <td>1</td>\n",
       "    </tr>\n",
       "    <tr>\n",
       "      <th>1</th>\n",
       "      <td>1</td>\n",
       "      <td>85</td>\n",
       "      <td>66</td>\n",
       "      <td>29</td>\n",
       "      <td>0</td>\n",
       "      <td>26.6</td>\n",
       "      <td>0.351</td>\n",
       "      <td>31</td>\n",
       "      <td>0</td>\n",
       "    </tr>\n",
       "    <tr>\n",
       "      <th>2</th>\n",
       "      <td>8</td>\n",
       "      <td>183</td>\n",
       "      <td>64</td>\n",
       "      <td>0</td>\n",
       "      <td>0</td>\n",
       "      <td>23.3</td>\n",
       "      <td>0.672</td>\n",
       "      <td>32</td>\n",
       "      <td>1</td>\n",
       "    </tr>\n",
       "    <tr>\n",
       "      <th>3</th>\n",
       "      <td>1</td>\n",
       "      <td>89</td>\n",
       "      <td>66</td>\n",
       "      <td>23</td>\n",
       "      <td>94</td>\n",
       "      <td>28.1</td>\n",
       "      <td>0.167</td>\n",
       "      <td>21</td>\n",
       "      <td>0</td>\n",
       "    </tr>\n",
       "    <tr>\n",
       "      <th>4</th>\n",
       "      <td>0</td>\n",
       "      <td>137</td>\n",
       "      <td>40</td>\n",
       "      <td>35</td>\n",
       "      <td>168</td>\n",
       "      <td>43.1</td>\n",
       "      <td>2.288</td>\n",
       "      <td>33</td>\n",
       "      <td>1</td>\n",
       "    </tr>\n",
       "  </tbody>\n",
       "</table>\n",
       "</div>"
      ],
      "text/plain": [
       "   Pregnancies  Glucose  BloodPressure  SkinThickness  Insulin   BMI  \\\n",
       "0            6      148             72             35        0  33.6   \n",
       "1            1       85             66             29        0  26.6   \n",
       "2            8      183             64              0        0  23.3   \n",
       "3            1       89             66             23       94  28.1   \n",
       "4            0      137             40             35      168  43.1   \n",
       "\n",
       "   DiabetesPedigreeFunction  Age  Outcome  \n",
       "0                     0.627   50        1  \n",
       "1                     0.351   31        0  \n",
       "2                     0.672   32        1  \n",
       "3                     0.167   21        0  \n",
       "4                     2.288   33        1  "
      ]
     },
     "execution_count": 2,
     "metadata": {},
     "output_type": "execute_result"
    }
   ],
   "source": [
    "diabetes = pd.read_csv('diabetes.csv')\n",
    "diabetes.head()"
   ]
  },
  {
   "cell_type": "markdown",
   "metadata": {},
   "source": [
    "Visualization of the number of rows and columns:"
   ]
  },
  {
   "cell_type": "code",
   "execution_count": 3,
   "metadata": {
    "colab": {
     "base_uri": "https://localhost:8080/"
    },
    "id": "yoJXIEgHFyVc",
    "outputId": "cac9bf25-8d14-455b-82c8-e7ea587d358e"
   },
   "outputs": [
    {
     "name": "stdout",
     "output_type": "stream",
     "text": [
      "(number of rows, number of columns): (768, 9)\n"
     ]
    }
   ],
   "source": [
    "print(\"(number of rows, number of columns): \" + str(diabetes.shape))"
   ]
  },
  {
   "cell_type": "markdown",
   "metadata": {},
   "source": [
    "## Cleaning of the Dataset"
   ]
  },
  {
   "cell_type": "markdown",
   "metadata": {
    "id": "C-3oOC0QO_ZY"
   },
   "source": [
    "A quick sight of the dataset is enough to conclude that all the features are numeric.\n",
    "Let's take a deeper look at them."
   ]
  },
  {
   "cell_type": "code",
   "execution_count": 4,
   "metadata": {},
   "outputs": [
    {
     "data": {
      "text/html": [
       "<style type=\"text/css\">\n",
       "#T_3252f_row0_col0, #T_3252f_row0_col1, #T_3252f_row0_col2, #T_3252f_row0_col3, #T_3252f_row0_col5, #T_3252f_row0_col6, #T_3252f_row0_col7, #T_3252f_row0_col8, #T_3252f_row7_col4 {\n",
       "  background-color: #023858;\n",
       "  color: #f1f1f1;\n",
       "}\n",
       "#T_3252f_row0_col4 {\n",
       "  background-color: #03517e;\n",
       "  color: #f1f1f1;\n",
       "}\n",
       "#T_3252f_row1_col0, #T_3252f_row2_col0, #T_3252f_row5_col0 {\n",
       "  background-color: #fef6fb;\n",
       "  color: #000000;\n",
       "}\n",
       "#T_3252f_row1_col1, #T_3252f_row7_col2 {\n",
       "  background-color: #e5e1ef;\n",
       "  color: #000000;\n",
       "}\n",
       "#T_3252f_row1_col2, #T_3252f_row7_col7 {\n",
       "  background-color: #f1ebf5;\n",
       "  color: #000000;\n",
       "}\n",
       "#T_3252f_row1_col3, #T_3252f_row2_col2 {\n",
       "  background-color: #fbf4f9;\n",
       "  color: #000000;\n",
       "}\n",
       "#T_3252f_row1_col4, #T_3252f_row5_col2 {\n",
       "  background-color: #f1ebf4;\n",
       "  color: #000000;\n",
       "}\n",
       "#T_3252f_row1_col5, #T_3252f_row2_col1, #T_3252f_row5_col5, #T_3252f_row6_col3 {\n",
       "  background-color: #f9f2f8;\n",
       "  color: #000000;\n",
       "}\n",
       "#T_3252f_row1_col6, #T_3252f_row1_col8, #T_3252f_row2_col6, #T_3252f_row2_col7, #T_3252f_row2_col8, #T_3252f_row3_col0, #T_3252f_row3_col1, #T_3252f_row3_col2, #T_3252f_row3_col3, #T_3252f_row3_col4, #T_3252f_row3_col5, #T_3252f_row3_col6, #T_3252f_row3_col8, #T_3252f_row4_col0, #T_3252f_row4_col3, #T_3252f_row4_col4, #T_3252f_row4_col6, #T_3252f_row4_col8, #T_3252f_row5_col6, #T_3252f_row5_col8, #T_3252f_row6_col6, #T_3252f_row6_col8, #T_3252f_row7_col6, #T_3252f_row7_col8 {\n",
       "  background-color: #fff7fb;\n",
       "  color: #000000;\n",
       "}\n",
       "#T_3252f_row1_col7, #T_3252f_row5_col3 {\n",
       "  background-color: #fbf3f9;\n",
       "  color: #000000;\n",
       "}\n",
       "#T_3252f_row2_col3, #T_3252f_row5_col7, #T_3252f_row7_col0 {\n",
       "  background-color: #fcf4fa;\n",
       "  color: #000000;\n",
       "}\n",
       "#T_3252f_row2_col4 {\n",
       "  background-color: #eae6f1;\n",
       "  color: #000000;\n",
       "}\n",
       "#T_3252f_row2_col5, #T_3252f_row6_col0 {\n",
       "  background-color: #fef6fa;\n",
       "  color: #000000;\n",
       "}\n",
       "#T_3252f_row3_col7, #T_3252f_row4_col7 {\n",
       "  background-color: #fdf5fa;\n",
       "  color: #000000;\n",
       "}\n",
       "#T_3252f_row4_col1, #T_3252f_row7_col3 {\n",
       "  background-color: #ebe6f2;\n",
       "  color: #000000;\n",
       "}\n",
       "#T_3252f_row4_col2 {\n",
       "  background-color: #f3edf5;\n",
       "  color: #000000;\n",
       "}\n",
       "#T_3252f_row4_col5, #T_3252f_row5_col4, #T_3252f_row6_col7 {\n",
       "  background-color: #faf2f8;\n",
       "  color: #000000;\n",
       "}\n",
       "#T_3252f_row5_col1 {\n",
       "  background-color: #e6e2ef;\n",
       "  color: #000000;\n",
       "}\n",
       "#T_3252f_row6_col1 {\n",
       "  background-color: #e0dded;\n",
       "  color: #000000;\n",
       "}\n",
       "#T_3252f_row6_col2 {\n",
       "  background-color: #f0eaf4;\n",
       "  color: #000000;\n",
       "}\n",
       "#T_3252f_row6_col4 {\n",
       "  background-color: #e7e3f0;\n",
       "  color: #000000;\n",
       "}\n",
       "#T_3252f_row6_col5 {\n",
       "  background-color: #f8f1f8;\n",
       "  color: #000000;\n",
       "}\n",
       "#T_3252f_row7_col1 {\n",
       "  background-color: #cdd0e5;\n",
       "  color: #000000;\n",
       "}\n",
       "#T_3252f_row7_col5 {\n",
       "  background-color: #f2ecf5;\n",
       "  color: #000000;\n",
       "}\n",
       "</style>\n",
       "<table id=\"T_3252f_\">\n",
       "  <thead>\n",
       "    <tr>\n",
       "      <th class=\"blank level0\" >&nbsp;</th>\n",
       "      <th class=\"col_heading level0 col0\" >Pregnancies</th>\n",
       "      <th class=\"col_heading level0 col1\" >Glucose</th>\n",
       "      <th class=\"col_heading level0 col2\" >BloodPressure</th>\n",
       "      <th class=\"col_heading level0 col3\" >SkinThickness</th>\n",
       "      <th class=\"col_heading level0 col4\" >Insulin</th>\n",
       "      <th class=\"col_heading level0 col5\" >BMI</th>\n",
       "      <th class=\"col_heading level0 col6\" >DiabetesPedigreeFunction</th>\n",
       "      <th class=\"col_heading level0 col7\" >Age</th>\n",
       "      <th class=\"col_heading level0 col8\" >Outcome</th>\n",
       "    </tr>\n",
       "  </thead>\n",
       "  <tbody>\n",
       "    <tr>\n",
       "      <th id=\"T_3252f_level0_row0\" class=\"row_heading level0 row0\" >count</th>\n",
       "      <td id=\"T_3252f_row0_col0\" class=\"data row0 col0\" >768.000000</td>\n",
       "      <td id=\"T_3252f_row0_col1\" class=\"data row0 col1\" >768.000000</td>\n",
       "      <td id=\"T_3252f_row0_col2\" class=\"data row0 col2\" >768.000000</td>\n",
       "      <td id=\"T_3252f_row0_col3\" class=\"data row0 col3\" >768.000000</td>\n",
       "      <td id=\"T_3252f_row0_col4\" class=\"data row0 col4\" >768.000000</td>\n",
       "      <td id=\"T_3252f_row0_col5\" class=\"data row0 col5\" >768.000000</td>\n",
       "      <td id=\"T_3252f_row0_col6\" class=\"data row0 col6\" >768.000000</td>\n",
       "      <td id=\"T_3252f_row0_col7\" class=\"data row0 col7\" >768.000000</td>\n",
       "      <td id=\"T_3252f_row0_col8\" class=\"data row0 col8\" >768.000000</td>\n",
       "    </tr>\n",
       "    <tr>\n",
       "      <th id=\"T_3252f_level0_row1\" class=\"row_heading level0 row1\" >mean</th>\n",
       "      <td id=\"T_3252f_row1_col0\" class=\"data row1 col0\" >3.850000</td>\n",
       "      <td id=\"T_3252f_row1_col1\" class=\"data row1 col1\" >120.890000</td>\n",
       "      <td id=\"T_3252f_row1_col2\" class=\"data row1 col2\" >69.110000</td>\n",
       "      <td id=\"T_3252f_row1_col3\" class=\"data row1 col3\" >20.540000</td>\n",
       "      <td id=\"T_3252f_row1_col4\" class=\"data row1 col4\" >79.800000</td>\n",
       "      <td id=\"T_3252f_row1_col5\" class=\"data row1 col5\" >31.990000</td>\n",
       "      <td id=\"T_3252f_row1_col6\" class=\"data row1 col6\" >0.470000</td>\n",
       "      <td id=\"T_3252f_row1_col7\" class=\"data row1 col7\" >33.240000</td>\n",
       "      <td id=\"T_3252f_row1_col8\" class=\"data row1 col8\" >0.350000</td>\n",
       "    </tr>\n",
       "    <tr>\n",
       "      <th id=\"T_3252f_level0_row2\" class=\"row_heading level0 row2\" >std</th>\n",
       "      <td id=\"T_3252f_row2_col0\" class=\"data row2 col0\" >3.370000</td>\n",
       "      <td id=\"T_3252f_row2_col1\" class=\"data row2 col1\" >31.970000</td>\n",
       "      <td id=\"T_3252f_row2_col2\" class=\"data row2 col2\" >19.360000</td>\n",
       "      <td id=\"T_3252f_row2_col3\" class=\"data row2 col3\" >15.950000</td>\n",
       "      <td id=\"T_3252f_row2_col4\" class=\"data row2 col4\" >115.240000</td>\n",
       "      <td id=\"T_3252f_row2_col5\" class=\"data row2 col5\" >7.880000</td>\n",
       "      <td id=\"T_3252f_row2_col6\" class=\"data row2 col6\" >0.330000</td>\n",
       "      <td id=\"T_3252f_row2_col7\" class=\"data row2 col7\" >11.760000</td>\n",
       "      <td id=\"T_3252f_row2_col8\" class=\"data row2 col8\" >0.480000</td>\n",
       "    </tr>\n",
       "    <tr>\n",
       "      <th id=\"T_3252f_level0_row3\" class=\"row_heading level0 row3\" >min</th>\n",
       "      <td id=\"T_3252f_row3_col0\" class=\"data row3 col0\" >0.000000</td>\n",
       "      <td id=\"T_3252f_row3_col1\" class=\"data row3 col1\" >0.000000</td>\n",
       "      <td id=\"T_3252f_row3_col2\" class=\"data row3 col2\" >0.000000</td>\n",
       "      <td id=\"T_3252f_row3_col3\" class=\"data row3 col3\" >0.000000</td>\n",
       "      <td id=\"T_3252f_row3_col4\" class=\"data row3 col4\" >0.000000</td>\n",
       "      <td id=\"T_3252f_row3_col5\" class=\"data row3 col5\" >0.000000</td>\n",
       "      <td id=\"T_3252f_row3_col6\" class=\"data row3 col6\" >0.080000</td>\n",
       "      <td id=\"T_3252f_row3_col7\" class=\"data row3 col7\" >21.000000</td>\n",
       "      <td id=\"T_3252f_row3_col8\" class=\"data row3 col8\" >0.000000</td>\n",
       "    </tr>\n",
       "    <tr>\n",
       "      <th id=\"T_3252f_level0_row4\" class=\"row_heading level0 row4\" >25%</th>\n",
       "      <td id=\"T_3252f_row4_col0\" class=\"data row4 col0\" >1.000000</td>\n",
       "      <td id=\"T_3252f_row4_col1\" class=\"data row4 col1\" >99.000000</td>\n",
       "      <td id=\"T_3252f_row4_col2\" class=\"data row4 col2\" >62.000000</td>\n",
       "      <td id=\"T_3252f_row4_col3\" class=\"data row4 col3\" >0.000000</td>\n",
       "      <td id=\"T_3252f_row4_col4\" class=\"data row4 col4\" >0.000000</td>\n",
       "      <td id=\"T_3252f_row4_col5\" class=\"data row4 col5\" >27.300000</td>\n",
       "      <td id=\"T_3252f_row4_col6\" class=\"data row4 col6\" >0.240000</td>\n",
       "      <td id=\"T_3252f_row4_col7\" class=\"data row4 col7\" >24.000000</td>\n",
       "      <td id=\"T_3252f_row4_col8\" class=\"data row4 col8\" >0.000000</td>\n",
       "    </tr>\n",
       "    <tr>\n",
       "      <th id=\"T_3252f_level0_row5\" class=\"row_heading level0 row5\" >50%</th>\n",
       "      <td id=\"T_3252f_row5_col0\" class=\"data row5 col0\" >3.000000</td>\n",
       "      <td id=\"T_3252f_row5_col1\" class=\"data row5 col1\" >117.000000</td>\n",
       "      <td id=\"T_3252f_row5_col2\" class=\"data row5 col2\" >72.000000</td>\n",
       "      <td id=\"T_3252f_row5_col3\" class=\"data row5 col3\" >23.000000</td>\n",
       "      <td id=\"T_3252f_row5_col4\" class=\"data row5 col4\" >30.500000</td>\n",
       "      <td id=\"T_3252f_row5_col5\" class=\"data row5 col5\" >32.000000</td>\n",
       "      <td id=\"T_3252f_row5_col6\" class=\"data row5 col6\" >0.370000</td>\n",
       "      <td id=\"T_3252f_row5_col7\" class=\"data row5 col7\" >29.000000</td>\n",
       "      <td id=\"T_3252f_row5_col8\" class=\"data row5 col8\" >0.000000</td>\n",
       "    </tr>\n",
       "    <tr>\n",
       "      <th id=\"T_3252f_level0_row6\" class=\"row_heading level0 row6\" >75%</th>\n",
       "      <td id=\"T_3252f_row6_col0\" class=\"data row6 col0\" >6.000000</td>\n",
       "      <td id=\"T_3252f_row6_col1\" class=\"data row6 col1\" >140.250000</td>\n",
       "      <td id=\"T_3252f_row6_col2\" class=\"data row6 col2\" >80.000000</td>\n",
       "      <td id=\"T_3252f_row6_col3\" class=\"data row6 col3\" >32.000000</td>\n",
       "      <td id=\"T_3252f_row6_col4\" class=\"data row6 col4\" >127.250000</td>\n",
       "      <td id=\"T_3252f_row6_col5\" class=\"data row6 col5\" >36.600000</td>\n",
       "      <td id=\"T_3252f_row6_col6\" class=\"data row6 col6\" >0.630000</td>\n",
       "      <td id=\"T_3252f_row6_col7\" class=\"data row6 col7\" >41.000000</td>\n",
       "      <td id=\"T_3252f_row6_col8\" class=\"data row6 col8\" >1.000000</td>\n",
       "    </tr>\n",
       "    <tr>\n",
       "      <th id=\"T_3252f_level0_row7\" class=\"row_heading level0 row7\" >max</th>\n",
       "      <td id=\"T_3252f_row7_col0\" class=\"data row7 col0\" >17.000000</td>\n",
       "      <td id=\"T_3252f_row7_col1\" class=\"data row7 col1\" >199.000000</td>\n",
       "      <td id=\"T_3252f_row7_col2\" class=\"data row7 col2\" >122.000000</td>\n",
       "      <td id=\"T_3252f_row7_col3\" class=\"data row7 col3\" >99.000000</td>\n",
       "      <td id=\"T_3252f_row7_col4\" class=\"data row7 col4\" >846.000000</td>\n",
       "      <td id=\"T_3252f_row7_col5\" class=\"data row7 col5\" >67.100000</td>\n",
       "      <td id=\"T_3252f_row7_col6\" class=\"data row7 col6\" >2.420000</td>\n",
       "      <td id=\"T_3252f_row7_col7\" class=\"data row7 col7\" >81.000000</td>\n",
       "      <td id=\"T_3252f_row7_col8\" class=\"data row7 col8\" >1.000000</td>\n",
       "    </tr>\n",
       "  </tbody>\n",
       "</table>\n"
      ],
      "text/plain": [
       "<pandas.io.formats.style.Styler at 0x2be69cd9910>"
      ]
     },
     "execution_count": 4,
     "metadata": {},
     "output_type": "execute_result"
    }
   ],
   "source": [
    "diabetes.describe().round(2).style.background_gradient()"
   ]
  },
  {
   "cell_type": "markdown",
   "metadata": {},
   "source": [
    "It seems the dataset has no missing values, but I'll make a further check on it:"
   ]
  },
  {
   "cell_type": "code",
   "execution_count": 5,
   "metadata": {},
   "outputs": [
    {
     "name": "stdout",
     "output_type": "stream",
     "text": [
      "Null Values:\n",
      "Pregnancies                 0\n",
      "Glucose                     0\n",
      "BloodPressure               0\n",
      "SkinThickness               0\n",
      "Insulin                     0\n",
      "BMI                         0\n",
      "DiabetesPedigreeFunction    0\n",
      "Age                         0\n",
      "Outcome                     0\n",
      "dtype: int64\n",
      "\n",
      "Duplicate Values: 0\n"
     ]
    }
   ],
   "source": [
    "print(\"Null Values:\\n\" + str(diabetes.isnull().sum()))\n",
    "print(\"\\nDuplicate Values: \" + str(diabetes.duplicated().sum()))"
   ]
  },
  {
   "cell_type": "markdown",
   "metadata": {},
   "source": [
    "The dataset:\n",
    "- doesn't contain any missing values (all the columns have 768 values).\n",
    "- doesn't contain duplicate rows.\n",
    "\n",
    "Let's take a look at the distribution of values:"
   ]
  },
  {
   "cell_type": "code",
   "execution_count": 6,
   "metadata": {
    "colab": {
     "base_uri": "https://localhost:8080/",
     "height": 721
    },
    "id": "jfHLGWskIOyA",
    "outputId": "08b94fc8-bb96-4105-8f4a-131420292e01"
   },
   "outputs": [
    {
     "data": {
      "image/png": "[encoded data removed]",
      "text/plain": [
       "<Figure size 1080x1080 with 8 Axes>"
      ]
     },
     "metadata": {
      "needs_background": "light"
     },
     "output_type": "display_data"
    }
   ],
   "source": [
    "fig, axs = plt.subplots(4, 2, figsize=(15,15))\n",
    "axs = axs.flatten()\n",
    "sns.histplot(diabetes['Pregnancies'],color='#38b000',ax=axs[0])\n",
    "sns.histplot(diabetes['Glucose'],color='#FF9933',ax=axs[1])\n",
    "sns.histplot(diabetes['BloodPressure'],color='#522500',ax=axs[2])\n",
    "sns.histplot(diabetes['SkinThickness'],color='#66b3ff',ax=axs[3])\n",
    "sns.histplot(diabetes['Insulin'],color='#FF6699',ax=axs[4])\n",
    "sns.histplot(diabetes['BMI'],color='#e76f51',ax=axs[5])\n",
    "sns.histplot(diabetes['DiabetesPedigreeFunction'],color='#03045e',ax=axs[6])\n",
    "sns.histplot(diabetes['Age'],color='#333533',ax=axs[7])\n",
    "plt.show()"
   ]
  },
  {
   "cell_type": "markdown",
   "metadata": {},
   "source": [
    "We can notice that many values are encoded as 0 in all features: they can invalidate our analysis and model.\n",
    "\n",
    "I'll replace them with NaN values in order to count them:"
   ]
  },
  {
   "cell_type": "code",
   "execution_count": 7,
   "metadata": {},
   "outputs": [
    {
     "data": {
      "text/plain": [
       "Pregnancies                   0\n",
       "Glucose                       5\n",
       "BloodPressure                35\n",
       "SkinThickness               227\n",
       "Insulin                     374\n",
       "BMI                          11\n",
       "DiabetesPedigreeFunction      0\n",
       "Age                           0\n",
       "Outcome                       0\n",
       "dtype: int64"
      ]
     },
     "execution_count": 7,
     "metadata": {},
     "output_type": "execute_result"
    }
   ],
   "source": [
    "cols = [\"Glucose\",\"BloodPressure\",\"Insulin\",\"SkinThickness\",\"BMI\"]\n",
    "diabetes[cols] = diabetes[cols].replace(0,np.nan)\n",
    "diabetes.isna().sum()"
   ]
  },
  {
   "cell_type": "markdown",
   "metadata": {},
   "source": [
    "Dropping NaN values would mean losing half of the dataset, so I'll replace them with the median for their column:"
   ]
  },
  {
   "cell_type": "code",
   "execution_count": 8,
   "metadata": {},
   "outputs": [
    {
     "data": {
      "text/plain": [
       "Pregnancies                 0\n",
       "Glucose                     0\n",
       "BloodPressure               0\n",
       "SkinThickness               0\n",
       "Insulin                     0\n",
       "BMI                         0\n",
       "DiabetesPedigreeFunction    0\n",
       "Age                         0\n",
       "Outcome                     0\n",
       "dtype: int64"
      ]
     },
     "execution_count": 8,
     "metadata": {},
     "output_type": "execute_result"
    }
   ],
   "source": [
    "# The missing values will be filled with the median values of each variable.\n",
    "def median_target(var):   \n",
    "    temp = diabetes[diabetes[var].notnull()]\n",
    "    temp = temp[[var, 'Outcome']].groupby(['Outcome'])[[var]].median().reset_index()\n",
    "    return temp\n",
    "\n",
    "# consider all columns except outcome\n",
    "columns = diabetes.columns\n",
    "columns = columns.drop(\"Outcome\")\n",
    "\n",
    "# The values to be given for incomplete observations are given the median value of people who are not sick and the median values of people who are sick.\n",
    "for col in columns:\n",
    "    diabetes.loc[(diabetes['Outcome'] == 0 ) & (diabetes[col].isnull()), col] = median_target(col)[col][0]\n",
    "    diabetes.loc[(diabetes['Outcome'] == 1 ) & (diabetes[col].isnull()), col] = median_target(col)[col][1]\n",
    "    \n",
    "diabetes.isna().sum()"
   ]
  },
  {
   "cell_type": "code",
   "execution_count": 9,
   "metadata": {},
   "outputs": [
    {
     "data": {
      "image/png": "[encoded data removed]",
      "text/plain": [
       "<Figure size 1080x1080 with 8 Axes>"
      ]
     },
     "metadata": {
      "needs_background": "light"
     },
     "output_type": "display_data"
    }
   ],
   "source": [
    "fig, axs = plt.subplots(4, 2, figsize=(15,15))\n",
    "axs = axs.flatten()\n",
    "sns.histplot(diabetes['Pregnancies'],color='#38b000',ax=axs[0])\n",
    "sns.histplot(diabetes['Glucose'],color='#FF9933',ax=axs[1])\n",
    "sns.histplot(diabetes['BloodPressure'],color='#522500',ax=axs[2])\n",
    "sns.histplot(diabetes['SkinThickness'],color='#66b3ff',ax=axs[3])\n",
    "sns.histplot(diabetes['Insulin'],color='#FF6699',ax=axs[4])\n",
    "sns.histplot(diabetes['BMI'],color='#e76f51',ax=axs[5])\n",
    "sns.histplot(diabetes['DiabetesPedigreeFunction'],color='#03045e',ax=axs[6])\n",
    "sns.histplot(diabetes['Age'],color='#333533',ax=axs[7])\n",
    "plt.show()"
   ]
  },
  {
   "cell_type": "markdown",
   "metadata": {},
   "source": [
    "# 1. Feature Analysis <a id='1'></a>"
   ]
  },
  {
   "cell_type": "markdown",
   "metadata": {},
   "source": [
    "The main goal is to extract important pieces of information on the correlation between features. "
   ]
  },
  {
   "cell_type": "code",
   "execution_count": 10,
   "metadata": {},
   "outputs": [
    {
     "data": {
      "text/html": [
       "<style type=\"text/css\">\n",
       "#T_148b0_row0_col0, #T_148b0_row1_col1, #T_148b0_row2_col2, #T_148b0_row3_col3, #T_148b0_row4_col4, #T_148b0_row5_col5, #T_148b0_row6_col6, #T_148b0_row7_col7, #T_148b0_row8_col8 {\n",
       "  background-color: #08306b;\n",
       "  color: #f1f1f1;\n",
       "}\n",
       "#T_148b0_row0_col1, #T_148b0_row0_col3, #T_148b0_row0_col4, #T_148b0_row0_col5, #T_148b0_row0_col6, #T_148b0_row2_col8, #T_148b0_row5_col7, #T_148b0_row6_col0, #T_148b0_row6_col2, #T_148b0_row6_col8 {\n",
       "  background-color: #f7fbff;\n",
       "  color: #000000;\n",
       "}\n",
       "#T_148b0_row0_col2 {\n",
       "  background-color: #cee0f2;\n",
       "  color: #000000;\n",
       "}\n",
       "#T_148b0_row0_col7 {\n",
       "  background-color: #60a7d2;\n",
       "  color: #f1f1f1;\n",
       "}\n",
       "#T_148b0_row0_col8, #T_148b0_row5_col0 {\n",
       "  background-color: #ecf4fb;\n",
       "  color: #000000;\n",
       "}\n",
       "#T_148b0_row1_col0, #T_148b0_row7_col1 {\n",
       "  background-color: #d8e7f5;\n",
       "  color: #000000;\n",
       "}\n",
       "#T_148b0_row1_col2, #T_148b0_row8_col3 {\n",
       "  background-color: #cbdef1;\n",
       "  color: #000000;\n",
       "}\n",
       "#T_148b0_row1_col3 {\n",
       "  background-color: #d9e7f5;\n",
       "  color: #000000;\n",
       "}\n",
       "#T_148b0_row1_col4 {\n",
       "  background-color: #7cb7da;\n",
       "  color: #000000;\n",
       "}\n",
       "#T_148b0_row1_col5, #T_148b0_row8_col7 {\n",
       "  background-color: #cddff1;\n",
       "  color: #000000;\n",
       "}\n",
       "#T_148b0_row1_col6 {\n",
       "  background-color: #d6e6f4;\n",
       "  color: #000000;\n",
       "}\n",
       "#T_148b0_row1_col7, #T_148b0_row8_col0 {\n",
       "  background-color: #c7dbef;\n",
       "  color: #000000;\n",
       "}\n",
       "#T_148b0_row1_col8 {\n",
       "  background-color: #99c7e0;\n",
       "  color: #000000;\n",
       "}\n",
       "#T_148b0_row2_col0 {\n",
       "  background-color: #c9ddf0;\n",
       "  color: #000000;\n",
       "}\n",
       "#T_148b0_row2_col1 {\n",
       "  background-color: #e2edf8;\n",
       "  color: #000000;\n",
       "}\n",
       "#T_148b0_row2_col3, #T_148b0_row4_col3, #T_148b0_row5_col1 {\n",
       "  background-color: #dfebf7;\n",
       "  color: #000000;\n",
       "}\n",
       "#T_148b0_row2_col4 {\n",
       "  background-color: #f5f9fe;\n",
       "  color: #000000;\n",
       "}\n",
       "#T_148b0_row2_col5 {\n",
       "  background-color: #c1d9ed;\n",
       "  color: #000000;\n",
       "}\n",
       "#T_148b0_row2_col6 {\n",
       "  background-color: #f2f7fd;\n",
       "  color: #000000;\n",
       "}\n",
       "#T_148b0_row2_col7 {\n",
       "  background-color: #b4d3e9;\n",
       "  color: #000000;\n",
       "}\n",
       "#T_148b0_row3_col0 {\n",
       "  background-color: #dfecf7;\n",
       "  color: #000000;\n",
       "}\n",
       "#T_148b0_row3_col1 {\n",
       "  background-color: #e0ecf8;\n",
       "  color: #000000;\n",
       "}\n",
       "#T_148b0_row3_col2, #T_148b0_row8_col6 {\n",
       "  background-color: #d0e1f2;\n",
       "  color: #000000;\n",
       "}\n",
       "#T_148b0_row3_col4 {\n",
       "  background-color: #d9e8f5;\n",
       "  color: #000000;\n",
       "}\n",
       "#T_148b0_row3_col5 {\n",
       "  background-color: #58a1cf;\n",
       "  color: #f1f1f1;\n",
       "}\n",
       "#T_148b0_row3_col6 {\n",
       "  background-color: #dceaf6;\n",
       "  color: #000000;\n",
       "}\n",
       "#T_148b0_row3_col7 {\n",
       "  background-color: #e3eef8;\n",
       "  color: #000000;\n",
       "}\n",
       "#T_148b0_row3_col8 {\n",
       "  background-color: #dae8f6;\n",
       "  color: #000000;\n",
       "}\n",
       "#T_148b0_row4_col0 {\n",
       "  background-color: #e6f0f9;\n",
       "  color: #000000;\n",
       "}\n",
       "#T_148b0_row4_col1 {\n",
       "  background-color: #8fc2de;\n",
       "  color: #000000;\n",
       "}\n",
       "#T_148b0_row4_col2 {\n",
       "  background-color: #e9f2fa;\n",
       "  color: #000000;\n",
       "}\n",
       "#T_148b0_row4_col5 {\n",
       "  background-color: #ccdff1;\n",
       "  color: #000000;\n",
       "}\n",
       "#T_148b0_row4_col6, #T_148b0_row8_col2 {\n",
       "  background-color: #d5e5f4;\n",
       "  color: #000000;\n",
       "}\n",
       "#T_148b0_row4_col7 {\n",
       "  background-color: #e3eef9;\n",
       "  color: #000000;\n",
       "}\n",
       "#T_148b0_row4_col8 {\n",
       "  background-color: #c7dcef;\n",
       "  color: #000000;\n",
       "}\n",
       "#T_148b0_row5_col2 {\n",
       "  background-color: #bad6eb;\n",
       "  color: #000000;\n",
       "}\n",
       "#T_148b0_row5_col3 {\n",
       "  background-color: #63a8d3;\n",
       "  color: #f1f1f1;\n",
       "}\n",
       "#T_148b0_row5_col4 {\n",
       "  background-color: #d2e3f3;\n",
       "  color: #000000;\n",
       "}\n",
       "#T_148b0_row5_col6 {\n",
       "  background-color: #d3e4f3;\n",
       "  color: #000000;\n",
       "}\n",
       "#T_148b0_row5_col8 {\n",
       "  background-color: #d6e5f4;\n",
       "  color: #000000;\n",
       "}\n",
       "#T_148b0_row6_col1 {\n",
       "  background-color: #f5fafe;\n",
       "  color: #000000;\n",
       "}\n",
       "#T_148b0_row6_col3 {\n",
       "  background-color: #f4f9fe;\n",
       "  color: #000000;\n",
       "}\n",
       "#T_148b0_row6_col4 {\n",
       "  background-color: #e5eff9;\n",
       "  color: #000000;\n",
       "}\n",
       "#T_148b0_row6_col5 {\n",
       "  background-color: #ddeaf7;\n",
       "  color: #000000;\n",
       "}\n",
       "#T_148b0_row6_col7, #T_148b0_row7_col5 {\n",
       "  background-color: #f6faff;\n",
       "  color: #000000;\n",
       "}\n",
       "#T_148b0_row7_col0 {\n",
       "  background-color: #57a0ce;\n",
       "  color: #f1f1f1;\n",
       "}\n",
       "#T_148b0_row7_col2 {\n",
       "  background-color: #aed1e7;\n",
       "  color: #000000;\n",
       "}\n",
       "#T_148b0_row7_col3 {\n",
       "  background-color: #eef5fc;\n",
       "  color: #000000;\n",
       "}\n",
       "#T_148b0_row7_col4 {\n",
       "  background-color: #eaf2fb;\n",
       "  color: #000000;\n",
       "}\n",
       "#T_148b0_row7_col6 {\n",
       "  background-color: #eaf3fb;\n",
       "  color: #000000;\n",
       "}\n",
       "#T_148b0_row7_col8 {\n",
       "  background-color: #e8f1fa;\n",
       "  color: #000000;\n",
       "}\n",
       "#T_148b0_row8_col1 {\n",
       "  background-color: #8cc0dd;\n",
       "  color: #000000;\n",
       "}\n",
       "#T_148b0_row8_col4 {\n",
       "  background-color: #aacfe5;\n",
       "  color: #000000;\n",
       "}\n",
       "#T_148b0_row8_col5 {\n",
       "  background-color: #b7d4ea;\n",
       "  color: #000000;\n",
       "}\n",
       "</style>\n",
       "<table id=\"T_148b0_\">\n",
       "  <thead>\n",
       "    <tr>\n",
       "      <th class=\"blank level0\" >&nbsp;</th>\n",
       "      <th class=\"col_heading level0 col0\" >Pregnancies</th>\n",
       "      <th class=\"col_heading level0 col1\" >Glucose</th>\n",
       "      <th class=\"col_heading level0 col2\" >BloodPressure</th>\n",
       "      <th class=\"col_heading level0 col3\" >SkinThickness</th>\n",
       "      <th class=\"col_heading level0 col4\" >Insulin</th>\n",
       "      <th class=\"col_heading level0 col5\" >BMI</th>\n",
       "      <th class=\"col_heading level0 col6\" >DiabetesPedigreeFunction</th>\n",
       "      <th class=\"col_heading level0 col7\" >Age</th>\n",
       "      <th class=\"col_heading level0 col8\" >Outcome</th>\n",
       "    </tr>\n",
       "  </thead>\n",
       "  <tbody>\n",
       "    <tr>\n",
       "      <th id=\"T_148b0_level0_row0\" class=\"row_heading level0 row0\" >Pregnancies</th>\n",
       "      <td id=\"T_148b0_row0_col0\" class=\"data row0 col0\" >1.000000</td>\n",
       "      <td id=\"T_148b0_row0_col1\" class=\"data row0 col1\" >0.130155</td>\n",
       "      <td id=\"T_148b0_row0_col2\" class=\"data row0 col2\" >0.209151</td>\n",
       "      <td id=\"T_148b0_row0_col3\" class=\"data row0 col3\" >0.089028</td>\n",
       "      <td id=\"T_148b0_row0_col4\" class=\"data row0 col4\" >0.058767</td>\n",
       "      <td id=\"T_148b0_row0_col5\" class=\"data row0 col5\" >0.023890</td>\n",
       "      <td id=\"T_148b0_row0_col6\" class=\"data row0 col6\" >-0.033523</td>\n",
       "      <td id=\"T_148b0_row0_col7\" class=\"data row0 col7\" >0.544341</td>\n",
       "      <td id=\"T_148b0_row0_col8\" class=\"data row0 col8\" >0.221898</td>\n",
       "    </tr>\n",
       "    <tr>\n",
       "      <th id=\"T_148b0_level0_row1\" class=\"row_heading level0 row1\" >Glucose</th>\n",
       "      <td id=\"T_148b0_row1_col0\" class=\"data row1 col0\" >0.130155</td>\n",
       "      <td id=\"T_148b0_row1_col1\" class=\"data row1 col1\" >1.000000</td>\n",
       "      <td id=\"T_148b0_row1_col2\" class=\"data row1 col2\" >0.225141</td>\n",
       "      <td id=\"T_148b0_row1_col3\" class=\"data row1 col3\" >0.229289</td>\n",
       "      <td id=\"T_148b0_row1_col4\" class=\"data row1 col4\" >0.490015</td>\n",
       "      <td id=\"T_148b0_row1_col5\" class=\"data row1 col5\" >0.236171</td>\n",
       "      <td id=\"T_148b0_row1_col6\" class=\"data row1 col6\" >0.138353</td>\n",
       "      <td id=\"T_148b0_row1_col7\" class=\"data row1 col7\" >0.268910</td>\n",
       "      <td id=\"T_148b0_row1_col8\" class=\"data row1 col8\" >0.495990</td>\n",
       "    </tr>\n",
       "    <tr>\n",
       "      <th id=\"T_148b0_level0_row2\" class=\"row_heading level0 row2\" >BloodPressure</th>\n",
       "      <td id=\"T_148b0_row2_col0\" class=\"data row2 col0\" >0.209151</td>\n",
       "      <td id=\"T_148b0_row2_col1\" class=\"data row2 col1\" >0.225141</td>\n",
       "      <td id=\"T_148b0_row2_col2\" class=\"data row2 col2\" >1.000000</td>\n",
       "      <td id=\"T_148b0_row2_col3\" class=\"data row2 col3\" >0.199349</td>\n",
       "      <td id=\"T_148b0_row2_col4\" class=\"data row2 col4\" >0.070128</td>\n",
       "      <td id=\"T_148b0_row2_col5\" class=\"data row2 col5\" >0.286399</td>\n",
       "      <td id=\"T_148b0_row2_col6\" class=\"data row2 col6\" >-0.001443</td>\n",
       "      <td id=\"T_148b0_row2_col7\" class=\"data row2 col7\" >0.325135</td>\n",
       "      <td id=\"T_148b0_row2_col8\" class=\"data row2 col8\" >0.174469</td>\n",
       "    </tr>\n",
       "    <tr>\n",
       "      <th id=\"T_148b0_level0_row3\" class=\"row_heading level0 row3\" >SkinThickness</th>\n",
       "      <td id=\"T_148b0_row3_col0\" class=\"data row3 col0\" >0.089028</td>\n",
       "      <td id=\"T_148b0_row3_col1\" class=\"data row3 col1\" >0.229289</td>\n",
       "      <td id=\"T_148b0_row3_col2\" class=\"data row3 col2\" >0.199349</td>\n",
       "      <td id=\"T_148b0_row3_col3\" class=\"data row3 col3\" >1.000000</td>\n",
       "      <td id=\"T_148b0_row3_col4\" class=\"data row3 col4\" >0.200129</td>\n",
       "      <td id=\"T_148b0_row3_col5\" class=\"data row3 col5\" >0.566086</td>\n",
       "      <td id=\"T_148b0_row3_col6\" class=\"data row3 col6\" >0.106280</td>\n",
       "      <td id=\"T_148b0_row3_col7\" class=\"data row3 col7\" >0.129537</td>\n",
       "      <td id=\"T_148b0_row3_col8\" class=\"data row3 col8\" >0.295138</td>\n",
       "    </tr>\n",
       "    <tr>\n",
       "      <th id=\"T_148b0_level0_row4\" class=\"row_heading level0 row4\" >Insulin</th>\n",
       "      <td id=\"T_148b0_row4_col0\" class=\"data row4 col0\" >0.058767</td>\n",
       "      <td id=\"T_148b0_row4_col1\" class=\"data row4 col1\" >0.490015</td>\n",
       "      <td id=\"T_148b0_row4_col2\" class=\"data row4 col2\" >0.070128</td>\n",
       "      <td id=\"T_148b0_row4_col3\" class=\"data row4 col3\" >0.200129</td>\n",
       "      <td id=\"T_148b0_row4_col4\" class=\"data row4 col4\" >1.000000</td>\n",
       "      <td id=\"T_148b0_row4_col5\" class=\"data row4 col5\" >0.238443</td>\n",
       "      <td id=\"T_148b0_row4_col6\" class=\"data row4 col6\" >0.146878</td>\n",
       "      <td id=\"T_148b0_row4_col7\" class=\"data row4 col7\" >0.123629</td>\n",
       "      <td id=\"T_148b0_row4_col8\" class=\"data row4 col8\" >0.377081</td>\n",
       "    </tr>\n",
       "    <tr>\n",
       "      <th id=\"T_148b0_level0_row5\" class=\"row_heading level0 row5\" >BMI</th>\n",
       "      <td id=\"T_148b0_row5_col0\" class=\"data row5 col0\" >0.023890</td>\n",
       "      <td id=\"T_148b0_row5_col1\" class=\"data row5 col1\" >0.236171</td>\n",
       "      <td id=\"T_148b0_row5_col2\" class=\"data row5 col2\" >0.286399</td>\n",
       "      <td id=\"T_148b0_row5_col3\" class=\"data row5 col3\" >0.566086</td>\n",
       "      <td id=\"T_148b0_row5_col4\" class=\"data row5 col4\" >0.238443</td>\n",
       "      <td id=\"T_148b0_row5_col5\" class=\"data row5 col5\" >1.000000</td>\n",
       "      <td id=\"T_148b0_row5_col6\" class=\"data row5 col6\" >0.152771</td>\n",
       "      <td id=\"T_148b0_row5_col7\" class=\"data row5 col7\" >0.027849</td>\n",
       "      <td id=\"T_148b0_row5_col8\" class=\"data row5 col8\" >0.315577</td>\n",
       "    </tr>\n",
       "    <tr>\n",
       "      <th id=\"T_148b0_level0_row6\" class=\"row_heading level0 row6\" >DiabetesPedigreeFunction</th>\n",
       "      <td id=\"T_148b0_row6_col0\" class=\"data row6 col0\" >-0.033523</td>\n",
       "      <td id=\"T_148b0_row6_col1\" class=\"data row6 col1\" >0.138353</td>\n",
       "      <td id=\"T_148b0_row6_col2\" class=\"data row6 col2\" >-0.001443</td>\n",
       "      <td id=\"T_148b0_row6_col3\" class=\"data row6 col3\" >0.106280</td>\n",
       "      <td id=\"T_148b0_row6_col4\" class=\"data row6 col4\" >0.146878</td>\n",
       "      <td id=\"T_148b0_row6_col5\" class=\"data row6 col5\" >0.152771</td>\n",
       "      <td id=\"T_148b0_row6_col6\" class=\"data row6 col6\" >1.000000</td>\n",
       "      <td id=\"T_148b0_row6_col7\" class=\"data row6 col7\" >0.033561</td>\n",
       "      <td id=\"T_148b0_row6_col8\" class=\"data row6 col8\" >0.173844</td>\n",
       "    </tr>\n",
       "    <tr>\n",
       "      <th id=\"T_148b0_level0_row7\" class=\"row_heading level0 row7\" >Age</th>\n",
       "      <td id=\"T_148b0_row7_col0\" class=\"data row7 col0\" >0.544341</td>\n",
       "      <td id=\"T_148b0_row7_col1\" class=\"data row7 col1\" >0.268910</td>\n",
       "      <td id=\"T_148b0_row7_col2\" class=\"data row7 col2\" >0.325135</td>\n",
       "      <td id=\"T_148b0_row7_col3\" class=\"data row7 col3\" >0.129537</td>\n",
       "      <td id=\"T_148b0_row7_col4\" class=\"data row7 col4\" >0.123629</td>\n",
       "      <td id=\"T_148b0_row7_col5\" class=\"data row7 col5\" >0.027849</td>\n",
       "      <td id=\"T_148b0_row7_col6\" class=\"data row7 col6\" >0.033561</td>\n",
       "      <td id=\"T_148b0_row7_col7\" class=\"data row7 col7\" >1.000000</td>\n",
       "      <td id=\"T_148b0_row7_col8\" class=\"data row7 col8\" >0.238356</td>\n",
       "    </tr>\n",
       "    <tr>\n",
       "      <th id=\"T_148b0_level0_row8\" class=\"row_heading level0 row8\" >Outcome</th>\n",
       "      <td id=\"T_148b0_row8_col0\" class=\"data row8 col0\" >0.221898</td>\n",
       "      <td id=\"T_148b0_row8_col1\" class=\"data row8 col1\" >0.495990</td>\n",
       "      <td id=\"T_148b0_row8_col2\" class=\"data row8 col2\" >0.174469</td>\n",
       "      <td id=\"T_148b0_row8_col3\" class=\"data row8 col3\" >0.295138</td>\n",
       "      <td id=\"T_148b0_row8_col4\" class=\"data row8 col4\" >0.377081</td>\n",
       "      <td id=\"T_148b0_row8_col5\" class=\"data row8 col5\" >0.315577</td>\n",
       "      <td id=\"T_148b0_row8_col6\" class=\"data row8 col6\" >0.173844</td>\n",
       "      <td id=\"T_148b0_row8_col7\" class=\"data row8 col7\" >0.238356</td>\n",
       "      <td id=\"T_148b0_row8_col8\" class=\"data row8 col8\" >1.000000</td>\n",
       "    </tr>\n",
       "  </tbody>\n",
       "</table>\n"
      ],
      "text/plain": [
       "<pandas.io.formats.style.Styler at 0x2be6f6591c0>"
      ]
     },
     "execution_count": 10,
     "metadata": {},
     "output_type": "execute_result"
    }
   ],
   "source": [
    "diabetes.corr().style.background_gradient(cmap=\"Blues\")"
   ]
  },
  {
   "cell_type": "markdown",
   "metadata": {},
   "source": [
    "We can notice lots of correlations in the dataset; some are obvious (for example the one between Age and Pregnancies) but some are interesting.\n",
    "\n",
    "We focus on the correlation with Outcome, which has:\n",
    "- a **soft correlation with Pregnancies, Blood Pressure, DiabetesPedigreeFunction and Age**,\n",
    "- a **correlation with Skin Thickness, Insulin and BMI**,\n",
    "- a **strong correlation with Glucose**."
   ]
  },
  {
   "cell_type": "markdown",
   "metadata": {
    "id": "JjbBtPvIPQBR"
   },
   "source": [
    "## Analysis on Outcome\n",
    "In this analysis we focus on the Outcome and its correlation with other features.\n",
    "\n",
    "------------------------------------------------------------------------------------------------------------------\n",
    "\n",
    "Let's start seeing if the Outcome is balanced:"
   ]
  },
  {
   "cell_type": "code",
   "execution_count": 11,
   "metadata": {},
   "outputs": [
    {
     "data": {
      "image/png": "[encoded data removed]",
      "text/plain": [
       "<Figure size 720x504 with 1 Axes>"
      ]
     },
     "metadata": {
      "needs_background": "light"
     },
     "output_type": "display_data"
    }
   ],
   "source": [
    "def countplot(data,x,w=10,h=7,hue=None,ax=None,order_desc= False):\n",
    "    plt.figure(figsize=(w,h))\n",
    "    ax = sns.countplot(data=data,x=x,hue=hue,ax=ax)\n",
    "    if hue: plt.legend(labels = ['no diabete', 'diabete'])\n",
    "\n",
    "    for patch in ax.patches:\n",
    "        loc = patch.get_x()\n",
    "        width = patch.get_width()\n",
    "        height = patch.get_height() if not math.isnan(patch.get_height()) else 0        \n",
    "        ax.text(loc+width/2,height,str(height),fontsize = 10,weight=\"bold\",color='brown',ha = \"center\")\n",
    "\n",
    "countplot(diabetes,\"Outcome\")"
   ]
  },
  {
   "cell_type": "markdown",
   "metadata": {},
   "source": [
    "We can notice that the feature is unbalanced: there are much more non-sick cases.\n",
    "\n",
    "------------------------------------------------------------------------------------------------------------------\n",
    "\n",
    "### What's the relationship between Pregnancies and Outcome\n",
    "\n",
    "Let's try to analyze the relationship between different features and Outcome, starting with the pregnancies."
   ]
  },
  {
   "cell_type": "code",
   "execution_count": 12,
   "metadata": {},
   "outputs": [
    {
     "name": "stderr",
     "output_type": "stream",
     "text": [
      "C:\\Users\\loren\\AppData\\Local\\Temp/ipykernel_4984/315430366.py:2: UserWarning: Boolean Series key will be reindexed to match DataFrame index.\n",
      "  less_two_pregnant = diabetes[diabetes.Pregnancies > 0][diabetes.Pregnancies <= 2]\n"
     ]
    },
    {
     "data": {
      "text/plain": [
       "<AxesSubplot:title={'center':'>2 times Pregnant Outcome Distribution'}>"
      ]
     },
     "execution_count": 12,
     "metadata": {},
     "output_type": "execute_result"
    },
    {
     "data": {
      "image/png": "[encoded data removed]",
      "text/plain": [
       "<Figure size 1296x1296 with 3 Axes>"
      ]
     },
     "metadata": {},
     "output_type": "display_data"
    }
   ],
   "source": [
    "never_pregnant = diabetes[diabetes.Pregnancies == 0]\n",
    "less_two_pregnant = diabetes[diabetes.Pregnancies > 0][diabetes.Pregnancies <= 2]\n",
    "more_two_pregnant = diabetes[diabetes.Pregnancies > 2]\n",
    "\n",
    "plt.subplot(1,3,1)\n",
    "never_pregnant['Outcome'].value_counts().plot(kind='pie', figsize=(18,18), title=f'Never Pregnant Outcome Distribution', ylabel = '')\n",
    "plt.subplot(1,3,2)\n",
    "less_two_pregnant['Outcome'].value_counts().plot(kind='pie', figsize=(18,18), title=f'1 or 2 times Pregnant Outcome Distribution', ylabel = '')\n",
    "plt.subplot(1,3,3)\n",
    "more_two_pregnant['Outcome'].value_counts().plot(kind='pie', figsize=(18,18), title=f'>2 times Pregnant Outcome Distribution', ylabel = '')\n"
   ]
  },
  {
   "cell_type": "markdown",
   "metadata": {},
   "source": [
    "It seems that women 1 or 2 times pregnant have less probability to have diabetes, while starting from 3 pregnancies the probability increases.\n",
    "\n",
    "Let's look more in detail at all the classes of pregnancies:"
   ]
  },
  {
   "cell_type": "code",
   "execution_count": 13,
   "metadata": {},
   "outputs": [
    {
     "data": {
      "image/png": "[encoded data removed]",
      "text/plain": [
       "<Figure size 1080x504 with 1 Axes>"
      ]
     },
     "metadata": {
      "needs_background": "light"
     },
     "output_type": "display_data"
    }
   ],
   "source": [
    "countplot(diabetes,\"Pregnancies\",15,7, hue=\"Outcome\",order_desc= True)"
   ]
  },
  {
   "cell_type": "markdown",
   "metadata": {},
   "source": [
    "It seems like the more pregnancy has a woman, the more is probable that she has diabetes.\n",
    "\n",
    "------------------------------------------------------------------------------------------------------------------\n",
    "\n",
    "### What's the relationship between Age and Outcome\n",
    "\n",
    "Let's try to apply the same comparison with the features Age and Outcome:"
   ]
  },
  {
   "cell_type": "code",
   "execution_count": 14,
   "metadata": {},
   "outputs": [
    {
     "data": {
      "image/png": "[encoded data removed]",
      "text/plain": [
       "<Figure size 1800x504 with 1 Axes>"
      ]
     },
     "metadata": {
      "needs_background": "light"
     },
     "output_type": "display_data"
    }
   ],
   "source": [
    "countplot(diabetes,\"Age\",25,7, hue=\"Outcome\",order_desc= True)"
   ]
  },
  {
   "cell_type": "markdown",
   "metadata": {},
   "source": [
    "The dataset contains more entries of young women. \n",
    "\n",
    "Also in this case, as the age of a woman increments, it increments the percentage of diabetes cases.\n",
    "\n",
    "------------------------------------------------------------------------------------------------------------------\n",
    "\n",
    "### What's the relationship between DiabetesPedigreeFunction and Outcome\n",
    "\n",
    "Diabetes Pedigree Function indicates the function which scores the likelihood of diabetes based on family history.\n",
    "Let's analyze the percentage of diabetes cases for the classes which contains a value under or over the mean for this metric."
   ]
  },
  {
   "cell_type": "code",
   "execution_count": 15,
   "metadata": {},
   "outputs": [
    {
     "data": {
      "text/plain": [
       "<AxesSubplot:title={'center':'DPF greater than mean'}>"
      ]
     },
     "execution_count": 15,
     "metadata": {},
     "output_type": "execute_result"
    },
    {
     "data": {
      "image/png": "[encoded data removed]",
      "text/plain": [
       "<Figure size 1296x1296 with 2 Axes>"
      ]
     },
     "metadata": {},
     "output_type": "display_data"
    }
   ],
   "source": [
    "low_ped = diabetes[diabetes.DiabetesPedigreeFunction < 0.47]\n",
    "high_ped = diabetes[diabetes.DiabetesPedigreeFunction >= 0.47]\n",
    "\n",
    "plt.subplot(1,3,1)\n",
    "low_ped['Outcome'].value_counts().plot(kind='pie', labels=['no diabetes','diabetes'],figsize=(18,18), title=f'DPF lower than mean', ylabel = '')\n",
    "plt.subplot(1,3,2)\n",
    "high_ped['Outcome'].value_counts().plot(kind='pie', labels=['no diabetes','diabetes'], figsize=(18,18), title=f'DPF greater than mean', ylabel = '')"
   ]
  },
  {
   "cell_type": "markdown",
   "metadata": {},
   "source": [
    "As expected, the higher the DPF, the more probable is the woman to have diabete."
   ]
  },
  {
   "cell_type": "markdown",
   "metadata": {},
   "source": [
    "\n",
    "------------------------------------------------------------------------------------------------------------------\n",
    "\n",
    "### What's the relationship between Insulin and Glucose and Outcome"
   ]
  },
  {
   "cell_type": "code",
   "execution_count": 16,
   "metadata": {},
   "outputs": [
    {
     "data": {
      "text/plain": [
       "Text(0, 0.5, 'Glucose')"
      ]
     },
     "execution_count": 16,
     "metadata": {},
     "output_type": "execute_result"
    },
    {
     "data": {
      "image/png": "[encoded data removed]",
      "text/plain": [
       "<Figure size 432x288 with 1 Axes>"
      ]
     },
     "metadata": {
      "needs_background": "light"
     },
     "output_type": "display_data"
    }
   ],
   "source": [
    "import matplotlib.pyplot as ppt\n",
    "\n",
    "healthy = diabetes[diabetes.Outcome == 0]\n",
    "sick = diabetes[diabetes.Outcome == 1]\n",
    "\n",
    "ppt.scatter(healthy.Insulin, healthy.Glucose)\n",
    "ppt.scatter(sick.Insulin, sick.Glucose)\n",
    "ppt.xlabel('Insulin')\n",
    "ppt.ylabel('Glucose')"
   ]
  },
  {
   "cell_type": "markdown",
   "metadata": {},
   "source": [
    "# 2. Feature Engineering <a id='2'></a>"
   ]
  },
  {
   "cell_type": "markdown",
   "metadata": {},
   "source": [
    "Let's do some feature engineering in order to get a more accurate model.\n",
    "We need to create new features based on real knowledge about diabete.\n",
    "\n",
    "The goal is to **classify BMI, Glucose, Blood Pressure and Skin Thickness**."
   ]
  },
  {
   "cell_type": "code",
   "execution_count": 17,
   "metadata": {},
   "outputs": [],
   "source": [
    "NewCols = [\"NewBMI\", \"NewGlucose\", \"NewBP\", \"NewTSF\"]"
   ]
  },
  {
   "cell_type": "markdown",
   "metadata": {},
   "source": [
    "------------------------------------------------------------------------------------------------------------------\n",
    "\n",
    "### BMI\n",
    "\n",
    "Let's start with the BMI, which can produce six classes based on the content of this article: https://www.cdc.gov/obesity/basics/adult-defining.html"
   ]
  },
  {
   "cell_type": "code",
   "execution_count": 18,
   "metadata": {},
   "outputs": [
    {
     "data": {
      "text/html": [
       "<div>\n",
       "<style scoped>\n",
       "    .dataframe tbody tr th:only-of-type {\n",
       "        vertical-align: middle;\n",
       "    }\n",
       "\n",
       "    .dataframe tbody tr th {\n",
       "        vertical-align: top;\n",
       "    }\n",
       "\n",
       "    .dataframe thead th {\n",
       "        text-align: right;\n",
       "    }\n",
       "</style>\n",
       "<table border=\"1\" class=\"dataframe\">\n",
       "  <thead>\n",
       "    <tr style=\"text-align: right;\">\n",
       "      <th></th>\n",
       "      <th>Pregnancies</th>\n",
       "      <th>Glucose</th>\n",
       "      <th>BloodPressure</th>\n",
       "      <th>SkinThickness</th>\n",
       "      <th>Insulin</th>\n",
       "      <th>BMI</th>\n",
       "      <th>DiabetesPedigreeFunction</th>\n",
       "      <th>Age</th>\n",
       "      <th>Outcome</th>\n",
       "      <th>NewBMI</th>\n",
       "    </tr>\n",
       "  </thead>\n",
       "  <tbody>\n",
       "    <tr>\n",
       "      <th>0</th>\n",
       "      <td>6</td>\n",
       "      <td>148.0</td>\n",
       "      <td>72.0</td>\n",
       "      <td>35.0</td>\n",
       "      <td>169.5</td>\n",
       "      <td>33.6</td>\n",
       "      <td>0.627</td>\n",
       "      <td>50</td>\n",
       "      <td>1</td>\n",
       "      <td>Obesity 1</td>\n",
       "    </tr>\n",
       "    <tr>\n",
       "      <th>1</th>\n",
       "      <td>1</td>\n",
       "      <td>85.0</td>\n",
       "      <td>66.0</td>\n",
       "      <td>29.0</td>\n",
       "      <td>102.5</td>\n",
       "      <td>26.6</td>\n",
       "      <td>0.351</td>\n",
       "      <td>31</td>\n",
       "      <td>0</td>\n",
       "      <td>Overweight</td>\n",
       "    </tr>\n",
       "    <tr>\n",
       "      <th>2</th>\n",
       "      <td>8</td>\n",
       "      <td>183.0</td>\n",
       "      <td>64.0</td>\n",
       "      <td>32.0</td>\n",
       "      <td>169.5</td>\n",
       "      <td>23.3</td>\n",
       "      <td>0.672</td>\n",
       "      <td>32</td>\n",
       "      <td>1</td>\n",
       "      <td>Normal</td>\n",
       "    </tr>\n",
       "    <tr>\n",
       "      <th>3</th>\n",
       "      <td>1</td>\n",
       "      <td>89.0</td>\n",
       "      <td>66.0</td>\n",
       "      <td>23.0</td>\n",
       "      <td>94.0</td>\n",
       "      <td>28.1</td>\n",
       "      <td>0.167</td>\n",
       "      <td>21</td>\n",
       "      <td>0</td>\n",
       "      <td>Overweight</td>\n",
       "    </tr>\n",
       "    <tr>\n",
       "      <th>4</th>\n",
       "      <td>0</td>\n",
       "      <td>137.0</td>\n",
       "      <td>40.0</td>\n",
       "      <td>35.0</td>\n",
       "      <td>168.0</td>\n",
       "      <td>43.1</td>\n",
       "      <td>2.288</td>\n",
       "      <td>33</td>\n",
       "      <td>1</td>\n",
       "      <td>Obesity 3</td>\n",
       "    </tr>\n",
       "  </tbody>\n",
       "</table>\n",
       "</div>"
      ],
      "text/plain": [
       "   Pregnancies  Glucose  BloodPressure  SkinThickness  Insulin   BMI  \\\n",
       "0            6    148.0           72.0           35.0    169.5  33.6   \n",
       "1            1     85.0           66.0           29.0    102.5  26.6   \n",
       "2            8    183.0           64.0           32.0    169.5  23.3   \n",
       "3            1     89.0           66.0           23.0     94.0  28.1   \n",
       "4            0    137.0           40.0           35.0    168.0  43.1   \n",
       "\n",
       "   DiabetesPedigreeFunction  Age  Outcome      NewBMI  \n",
       "0                     0.627   50        1   Obesity 1  \n",
       "1                     0.351   31        0  Overweight  \n",
       "2                     0.672   32        1      Normal  \n",
       "3                     0.167   21        0  Overweight  \n",
       "4                     2.288   33        1   Obesity 3  "
      ]
     },
     "execution_count": 18,
     "metadata": {},
     "output_type": "execute_result"
    }
   ],
   "source": [
    "NewBMI_list = [\"Underweight\", \"Normal\", \"Overweight\", \"Obesity 1\", \"Obesity 2\", \"Obesity 3\"]\n",
    "NewBMI = pd.Series(NewBMI_list, dtype = \"category\")\n",
    "\n",
    "diabetes[\"NewBMI\"] = NewBMI\n",
    "\n",
    "diabetes.loc[diabetes[\"BMI\"] < 18.5, \"NewBMI\"] = NewBMI[0]\n",
    "diabetes.loc[(diabetes[\"BMI\"] > 18.5) & (diabetes[\"BMI\"] <= 24.9), \"NewBMI\"] = NewBMI[1]\n",
    "diabetes.loc[(diabetes[\"BMI\"] > 24.9) & (diabetes[\"BMI\"] <= 29.9), \"NewBMI\"] = NewBMI[2]\n",
    "diabetes.loc[(diabetes[\"BMI\"] > 29.9) & (diabetes[\"BMI\"] <= 34.9), \"NewBMI\"] = NewBMI[3]\n",
    "diabetes.loc[(diabetes[\"BMI\"] > 34.9) & (diabetes[\"BMI\"] <= 39.9), \"NewBMI\"] = NewBMI[4]\n",
    "diabetes.loc[diabetes[\"BMI\"] > 39.9 ,\"NewBMI\"] = NewBMI[5]\n",
    "\n",
    "diabetes.head()"
   ]
  },
  {
   "cell_type": "markdown",
   "metadata": {},
   "source": [
    "We have now classified the BMI feature.\n",
    "\n",
    "------------------------------------------------------------------------------------------------------------------\n",
    "\n",
    "### Glucose\n",
    "\n",
    "The following knowledge is based on the article: https://diabetes.org/diabetes/a1c/diagnosis\n",
    "\n",
    "The level of glucose in the dataset refers to an Oral Glucose Tolerance Test (OGTT), a two-hour test that checks your blood glucose levels before and two hours after you drink a special sweet drink. It tells the doctor how your body processes sugar.\n",
    "\n",
    "**Diabetes is diagnosed at two-hour blood glucose of greater than or equal to 200 mg/dl**, so this feature may be crucial to classify diabete cases."
   ]
  },
  {
   "cell_type": "code",
   "execution_count": 19,
   "metadata": {
    "scrolled": false
   },
   "outputs": [
    {
     "data": {
      "text/html": [
       "<div>\n",
       "<style scoped>\n",
       "    .dataframe tbody tr th:only-of-type {\n",
       "        vertical-align: middle;\n",
       "    }\n",
       "\n",
       "    .dataframe tbody tr th {\n",
       "        vertical-align: top;\n",
       "    }\n",
       "\n",
       "    .dataframe thead th {\n",
       "        text-align: right;\n",
       "    }\n",
       "</style>\n",
       "<table border=\"1\" class=\"dataframe\">\n",
       "  <thead>\n",
       "    <tr style=\"text-align: right;\">\n",
       "      <th></th>\n",
       "      <th>Pregnancies</th>\n",
       "      <th>Glucose</th>\n",
       "      <th>BloodPressure</th>\n",
       "      <th>SkinThickness</th>\n",
       "      <th>Insulin</th>\n",
       "      <th>BMI</th>\n",
       "      <th>DiabetesPedigreeFunction</th>\n",
       "      <th>Age</th>\n",
       "      <th>Outcome</th>\n",
       "      <th>NewBMI</th>\n",
       "      <th>NewGlucose</th>\n",
       "    </tr>\n",
       "  </thead>\n",
       "  <tbody>\n",
       "    <tr>\n",
       "      <th>0</th>\n",
       "      <td>6</td>\n",
       "      <td>148.0</td>\n",
       "      <td>72.0</td>\n",
       "      <td>35.0</td>\n",
       "      <td>169.5</td>\n",
       "      <td>33.6</td>\n",
       "      <td>0.627</td>\n",
       "      <td>50</td>\n",
       "      <td>1</td>\n",
       "      <td>Obesity 1</td>\n",
       "      <td>Prediabetes</td>\n",
       "    </tr>\n",
       "    <tr>\n",
       "      <th>1</th>\n",
       "      <td>1</td>\n",
       "      <td>85.0</td>\n",
       "      <td>66.0</td>\n",
       "      <td>29.0</td>\n",
       "      <td>102.5</td>\n",
       "      <td>26.6</td>\n",
       "      <td>0.351</td>\n",
       "      <td>31</td>\n",
       "      <td>0</td>\n",
       "      <td>Overweight</td>\n",
       "      <td>Normal</td>\n",
       "    </tr>\n",
       "    <tr>\n",
       "      <th>2</th>\n",
       "      <td>8</td>\n",
       "      <td>183.0</td>\n",
       "      <td>64.0</td>\n",
       "      <td>32.0</td>\n",
       "      <td>169.5</td>\n",
       "      <td>23.3</td>\n",
       "      <td>0.672</td>\n",
       "      <td>32</td>\n",
       "      <td>1</td>\n",
       "      <td>Normal</td>\n",
       "      <td>Prediabetes</td>\n",
       "    </tr>\n",
       "    <tr>\n",
       "      <th>3</th>\n",
       "      <td>1</td>\n",
       "      <td>89.0</td>\n",
       "      <td>66.0</td>\n",
       "      <td>23.0</td>\n",
       "      <td>94.0</td>\n",
       "      <td>28.1</td>\n",
       "      <td>0.167</td>\n",
       "      <td>21</td>\n",
       "      <td>0</td>\n",
       "      <td>Overweight</td>\n",
       "      <td>Normal</td>\n",
       "    </tr>\n",
       "    <tr>\n",
       "      <th>4</th>\n",
       "      <td>0</td>\n",
       "      <td>137.0</td>\n",
       "      <td>40.0</td>\n",
       "      <td>35.0</td>\n",
       "      <td>168.0</td>\n",
       "      <td>43.1</td>\n",
       "      <td>2.288</td>\n",
       "      <td>33</td>\n",
       "      <td>1</td>\n",
       "      <td>Obesity 3</td>\n",
       "      <td>Normal</td>\n",
       "    </tr>\n",
       "  </tbody>\n",
       "</table>\n",
       "</div>"
      ],
      "text/plain": [
       "   Pregnancies  Glucose  BloodPressure  SkinThickness  Insulin   BMI  \\\n",
       "0            6    148.0           72.0           35.0    169.5  33.6   \n",
       "1            1     85.0           66.0           29.0    102.5  26.6   \n",
       "2            8    183.0           64.0           32.0    169.5  23.3   \n",
       "3            1     89.0           66.0           23.0     94.0  28.1   \n",
       "4            0    137.0           40.0           35.0    168.0  43.1   \n",
       "\n",
       "   DiabetesPedigreeFunction  Age  Outcome      NewBMI   NewGlucose  \n",
       "0                     0.627   50        1   Obesity 1  Prediabetes  \n",
       "1                     0.351   31        0  Overweight       Normal  \n",
       "2                     0.672   32        1      Normal  Prediabetes  \n",
       "3                     0.167   21        0  Overweight       Normal  \n",
       "4                     2.288   33        1   Obesity 3       Normal  "
      ]
     },
     "execution_count": 19,
     "metadata": {},
     "output_type": "execute_result"
    }
   ],
   "source": [
    "NewGlucose_list = [\"Normal\", \"Prediabetes\", \"Diabetes\"]\n",
    "NewGlucose = pd.Series(NewGlucose_list, dtype = \"category\")\n",
    "\n",
    "diabetes[\"NewGlucose\"] = NewGlucose\n",
    "\n",
    "diabetes.loc[diabetes[\"Glucose\"] <= 140, \"NewGlucose\"] = NewGlucose[0]\n",
    "\n",
    "diabetes.loc[(diabetes[\"Glucose\"] > 140) & (diabetes[\"Glucose\"] <= 199), \"NewGlucose\"] = NewGlucose[1]\n",
    "\n",
    "diabetes.loc[diabetes[\"Glucose\"] > 199 ,\"NewGlucose\"] = NewGlucose[2]\n",
    "\n",
    "diabetes.head()"
   ]
  },
  {
   "cell_type": "markdown",
   "metadata": {},
   "source": [
    "------------------------------------------------------------------------------------------------------------------\n",
    "\n",
    "### Blood Pressure\n",
    "\n",
    "Knowledge is achieved through this article: https://www.cdc.gov/bloodpressure/about.htm.\n",
    "\n",
    "Blood pressure can be classified as:\n",
    "- Normal, diastolic: less than 80 mm Hg\n",
    "- At Risk (prehypertension) diastolic: 80–89 mm Hg\n",
    "- High Blood Pressure (hypertension) diastolic: 90 mm Hg or higher\n"
   ]
  },
  {
   "cell_type": "code",
   "execution_count": 20,
   "metadata": {},
   "outputs": [
    {
     "data": {
      "text/html": [
       "<div>\n",
       "<style scoped>\n",
       "    .dataframe tbody tr th:only-of-type {\n",
       "        vertical-align: middle;\n",
       "    }\n",
       "\n",
       "    .dataframe tbody tr th {\n",
       "        vertical-align: top;\n",
       "    }\n",
       "\n",
       "    .dataframe thead th {\n",
       "        text-align: right;\n",
       "    }\n",
       "</style>\n",
       "<table border=\"1\" class=\"dataframe\">\n",
       "  <thead>\n",
       "    <tr style=\"text-align: right;\">\n",
       "      <th></th>\n",
       "      <th>Pregnancies</th>\n",
       "      <th>Glucose</th>\n",
       "      <th>BloodPressure</th>\n",
       "      <th>SkinThickness</th>\n",
       "      <th>Insulin</th>\n",
       "      <th>BMI</th>\n",
       "      <th>DiabetesPedigreeFunction</th>\n",
       "      <th>Age</th>\n",
       "      <th>Outcome</th>\n",
       "      <th>NewBMI</th>\n",
       "      <th>NewGlucose</th>\n",
       "      <th>NewBP</th>\n",
       "    </tr>\n",
       "  </thead>\n",
       "  <tbody>\n",
       "    <tr>\n",
       "      <th>0</th>\n",
       "      <td>6</td>\n",
       "      <td>148.0</td>\n",
       "      <td>72.0</td>\n",
       "      <td>35.0</td>\n",
       "      <td>169.5</td>\n",
       "      <td>33.6</td>\n",
       "      <td>0.627</td>\n",
       "      <td>50</td>\n",
       "      <td>1</td>\n",
       "      <td>Obesity 1</td>\n",
       "      <td>Prediabetes</td>\n",
       "      <td>Normal</td>\n",
       "    </tr>\n",
       "    <tr>\n",
       "      <th>1</th>\n",
       "      <td>1</td>\n",
       "      <td>85.0</td>\n",
       "      <td>66.0</td>\n",
       "      <td>29.0</td>\n",
       "      <td>102.5</td>\n",
       "      <td>26.6</td>\n",
       "      <td>0.351</td>\n",
       "      <td>31</td>\n",
       "      <td>0</td>\n",
       "      <td>Overweight</td>\n",
       "      <td>Normal</td>\n",
       "      <td>Normal</td>\n",
       "    </tr>\n",
       "    <tr>\n",
       "      <th>2</th>\n",
       "      <td>8</td>\n",
       "      <td>183.0</td>\n",
       "      <td>64.0</td>\n",
       "      <td>32.0</td>\n",
       "      <td>169.5</td>\n",
       "      <td>23.3</td>\n",
       "      <td>0.672</td>\n",
       "      <td>32</td>\n",
       "      <td>1</td>\n",
       "      <td>Normal</td>\n",
       "      <td>Prediabetes</td>\n",
       "      <td>Normal</td>\n",
       "    </tr>\n",
       "    <tr>\n",
       "      <th>3</th>\n",
       "      <td>1</td>\n",
       "      <td>89.0</td>\n",
       "      <td>66.0</td>\n",
       "      <td>23.0</td>\n",
       "      <td>94.0</td>\n",
       "      <td>28.1</td>\n",
       "      <td>0.167</td>\n",
       "      <td>21</td>\n",
       "      <td>0</td>\n",
       "      <td>Overweight</td>\n",
       "      <td>Normal</td>\n",
       "      <td>Normal</td>\n",
       "    </tr>\n",
       "    <tr>\n",
       "      <th>4</th>\n",
       "      <td>0</td>\n",
       "      <td>137.0</td>\n",
       "      <td>40.0</td>\n",
       "      <td>35.0</td>\n",
       "      <td>168.0</td>\n",
       "      <td>43.1</td>\n",
       "      <td>2.288</td>\n",
       "      <td>33</td>\n",
       "      <td>1</td>\n",
       "      <td>Obesity 3</td>\n",
       "      <td>Normal</td>\n",
       "      <td>Normal</td>\n",
       "    </tr>\n",
       "  </tbody>\n",
       "</table>\n",
       "</div>"
      ],
      "text/plain": [
       "   Pregnancies  Glucose  BloodPressure  SkinThickness  Insulin   BMI  \\\n",
       "0            6    148.0           72.0           35.0    169.5  33.6   \n",
       "1            1     85.0           66.0           29.0    102.5  26.6   \n",
       "2            8    183.0           64.0           32.0    169.5  23.3   \n",
       "3            1     89.0           66.0           23.0     94.0  28.1   \n",
       "4            0    137.0           40.0           35.0    168.0  43.1   \n",
       "\n",
       "   DiabetesPedigreeFunction  Age  Outcome      NewBMI   NewGlucose   NewBP  \n",
       "0                     0.627   50        1   Obesity 1  Prediabetes  Normal  \n",
       "1                     0.351   31        0  Overweight       Normal  Normal  \n",
       "2                     0.672   32        1      Normal  Prediabetes  Normal  \n",
       "3                     0.167   21        0  Overweight       Normal  Normal  \n",
       "4                     2.288   33        1   Obesity 3       Normal  Normal  "
      ]
     },
     "execution_count": 20,
     "metadata": {},
     "output_type": "execute_result"
    }
   ],
   "source": [
    "NewBP_list = [\"Normal\", \"Prehypertension\", \"Hypertension\"]\n",
    "NewBP = pd.Series(NewBP_list, dtype = \"category\")\n",
    "\n",
    "diabetes[\"NewBP\"] = NewBP\n",
    "\n",
    "diabetes.loc[diabetes[\"BloodPressure\"] <= 80, \"NewBP\"] = NewBP[0]\n",
    "\n",
    "diabetes.loc[(diabetes[\"BloodPressure\"] > 80) & (diabetes[\"BloodPressure\"] <= 89), \"NewBP\"] = NewBP[1]\n",
    "\n",
    "diabetes.loc[diabetes[\"BloodPressure\"] > 89 ,\"NewBP\"] = NewBP[2]\n",
    "\n",
    "diabetes.head()"
   ]
  },
  {
   "cell_type": "markdown",
   "metadata": {},
   "source": [
    "------------------------------------------------------------------------------------------------------------------\n",
    "\n",
    "### SkinThickness\n",
    "\n",
    "Source: www.frontiersin.org/articles/10.3389/fcvm.2022.858994/full#:~:text=In%20the%20study%20population%2C%20the,vs%2014.3%20%C2%B1%206.8%20mm\n",
    "\n",
    "Women have much higher TSF thickness than men, the normal range is 23.6 ± 7.5 mm (for men is 14.3 ± 6.8 mm). "
   ]
  },
  {
   "cell_type": "code",
   "execution_count": 21,
   "metadata": {
    "scrolled": true
   },
   "outputs": [
    {
     "data": {
      "text/html": [
       "<div>\n",
       "<style scoped>\n",
       "    .dataframe tbody tr th:only-of-type {\n",
       "        vertical-align: middle;\n",
       "    }\n",
       "\n",
       "    .dataframe tbody tr th {\n",
       "        vertical-align: top;\n",
       "    }\n",
       "\n",
       "    .dataframe thead th {\n",
       "        text-align: right;\n",
       "    }\n",
       "</style>\n",
       "<table border=\"1\" class=\"dataframe\">\n",
       "  <thead>\n",
       "    <tr style=\"text-align: right;\">\n",
       "      <th></th>\n",
       "      <th>Pregnancies</th>\n",
       "      <th>Glucose</th>\n",
       "      <th>BloodPressure</th>\n",
       "      <th>SkinThickness</th>\n",
       "      <th>Insulin</th>\n",
       "      <th>BMI</th>\n",
       "      <th>DiabetesPedigreeFunction</th>\n",
       "      <th>Age</th>\n",
       "      <th>Outcome</th>\n",
       "      <th>NewBMI</th>\n",
       "      <th>NewGlucose</th>\n",
       "      <th>NewBP</th>\n",
       "      <th>NewTSF</th>\n",
       "    </tr>\n",
       "  </thead>\n",
       "  <tbody>\n",
       "    <tr>\n",
       "      <th>0</th>\n",
       "      <td>6</td>\n",
       "      <td>148.0</td>\n",
       "      <td>72.0</td>\n",
       "      <td>35.0</td>\n",
       "      <td>169.5</td>\n",
       "      <td>33.6</td>\n",
       "      <td>0.627</td>\n",
       "      <td>50</td>\n",
       "      <td>1</td>\n",
       "      <td>Obesity 1</td>\n",
       "      <td>Prediabetes</td>\n",
       "      <td>Normal</td>\n",
       "      <td>Abnormal</td>\n",
       "    </tr>\n",
       "    <tr>\n",
       "      <th>1</th>\n",
       "      <td>1</td>\n",
       "      <td>85.0</td>\n",
       "      <td>66.0</td>\n",
       "      <td>29.0</td>\n",
       "      <td>102.5</td>\n",
       "      <td>26.6</td>\n",
       "      <td>0.351</td>\n",
       "      <td>31</td>\n",
       "      <td>0</td>\n",
       "      <td>Overweight</td>\n",
       "      <td>Normal</td>\n",
       "      <td>Normal</td>\n",
       "      <td>Normal</td>\n",
       "    </tr>\n",
       "    <tr>\n",
       "      <th>2</th>\n",
       "      <td>8</td>\n",
       "      <td>183.0</td>\n",
       "      <td>64.0</td>\n",
       "      <td>32.0</td>\n",
       "      <td>169.5</td>\n",
       "      <td>23.3</td>\n",
       "      <td>0.672</td>\n",
       "      <td>32</td>\n",
       "      <td>1</td>\n",
       "      <td>Normal</td>\n",
       "      <td>Prediabetes</td>\n",
       "      <td>Normal</td>\n",
       "      <td>Abnormal</td>\n",
       "    </tr>\n",
       "    <tr>\n",
       "      <th>3</th>\n",
       "      <td>1</td>\n",
       "      <td>89.0</td>\n",
       "      <td>66.0</td>\n",
       "      <td>23.0</td>\n",
       "      <td>94.0</td>\n",
       "      <td>28.1</td>\n",
       "      <td>0.167</td>\n",
       "      <td>21</td>\n",
       "      <td>0</td>\n",
       "      <td>Overweight</td>\n",
       "      <td>Normal</td>\n",
       "      <td>Normal</td>\n",
       "      <td>Normal</td>\n",
       "    </tr>\n",
       "    <tr>\n",
       "      <th>4</th>\n",
       "      <td>0</td>\n",
       "      <td>137.0</td>\n",
       "      <td>40.0</td>\n",
       "      <td>35.0</td>\n",
       "      <td>168.0</td>\n",
       "      <td>43.1</td>\n",
       "      <td>2.288</td>\n",
       "      <td>33</td>\n",
       "      <td>1</td>\n",
       "      <td>Obesity 3</td>\n",
       "      <td>Normal</td>\n",
       "      <td>Normal</td>\n",
       "      <td>Abnormal</td>\n",
       "    </tr>\n",
       "  </tbody>\n",
       "</table>\n",
       "</div>"
      ],
      "text/plain": [
       "   Pregnancies  Glucose  BloodPressure  SkinThickness  Insulin   BMI  \\\n",
       "0            6    148.0           72.0           35.0    169.5  33.6   \n",
       "1            1     85.0           66.0           29.0    102.5  26.6   \n",
       "2            8    183.0           64.0           32.0    169.5  23.3   \n",
       "3            1     89.0           66.0           23.0     94.0  28.1   \n",
       "4            0    137.0           40.0           35.0    168.0  43.1   \n",
       "\n",
       "   DiabetesPedigreeFunction  Age  Outcome      NewBMI   NewGlucose   NewBP  \\\n",
       "0                     0.627   50        1   Obesity 1  Prediabetes  Normal   \n",
       "1                     0.351   31        0  Overweight       Normal  Normal   \n",
       "2                     0.672   32        1      Normal  Prediabetes  Normal   \n",
       "3                     0.167   21        0  Overweight       Normal  Normal   \n",
       "4                     2.288   33        1   Obesity 3       Normal  Normal   \n",
       "\n",
       "     NewTSF  \n",
       "0  Abnormal  \n",
       "1    Normal  \n",
       "2  Abnormal  \n",
       "3    Normal  \n",
       "4  Abnormal  "
      ]
     },
     "execution_count": 21,
     "metadata": {},
     "output_type": "execute_result"
    }
   ],
   "source": [
    "NewTSF_list = [\"Normal\", \"Abnormal\"]\n",
    "NewTSF = pd.Series(NewTSF_list, dtype = \"category\")\n",
    "\n",
    "diabetes[\"NewTSF\"] = NewTSF\n",
    "\n",
    "diabetes.loc[(diabetes[\"SkinThickness\"] >= 16.1) & (diabetes[\"SkinThickness\"] <= 31.1), \"NewTSF\"] = NewTSF[0]\n",
    "\n",
    "diabetes.loc[(diabetes[\"SkinThickness\"] < 16.1) | (diabetes[\"SkinThickness\"] > 31.1), \"NewTSF\"] = NewTSF[1]\n",
    "\n",
    "diabetes.head()"
   ]
  },
  {
   "cell_type": "markdown",
   "metadata": {},
   "source": [
    "------------------------------------------------------------------------------------------------------------------\n",
    "\n",
    "#### Convert classes into columns\n",
    "This process aims to develop columns that can be used to increment the prediction's accuracy."
   ]
  },
  {
   "cell_type": "code",
   "execution_count": 22,
   "metadata": {
    "scrolled": false
   },
   "outputs": [
    {
     "data": {
      "text/html": [
       "<div>\n",
       "<style scoped>\n",
       "    .dataframe tbody tr th:only-of-type {\n",
       "        vertical-align: middle;\n",
       "    }\n",
       "\n",
       "    .dataframe tbody tr th {\n",
       "        vertical-align: top;\n",
       "    }\n",
       "\n",
       "    .dataframe thead th {\n",
       "        text-align: right;\n",
       "    }\n",
       "</style>\n",
       "<table border=\"1\" class=\"dataframe\">\n",
       "  <thead>\n",
       "    <tr style=\"text-align: right;\">\n",
       "      <th></th>\n",
       "      <th>NewBMI_Obesity 1</th>\n",
       "      <th>NewBMI_Obesity 2</th>\n",
       "      <th>NewBMI_Obesity 3</th>\n",
       "      <th>NewBMI_Overweight</th>\n",
       "      <th>NewBMI_Underweight</th>\n",
       "      <th>NewGlucose_Normal</th>\n",
       "      <th>NewGlucose_Prediabetes</th>\n",
       "      <th>NewBP_Normal</th>\n",
       "      <th>NewBP_Prehypertension</th>\n",
       "      <th>NewTSF_Normal</th>\n",
       "    </tr>\n",
       "  </thead>\n",
       "  <tbody>\n",
       "    <tr>\n",
       "      <th>0</th>\n",
       "      <td>1</td>\n",
       "      <td>0</td>\n",
       "      <td>0</td>\n",
       "      <td>0</td>\n",
       "      <td>0</td>\n",
       "      <td>0</td>\n",
       "      <td>1</td>\n",
       "      <td>1</td>\n",
       "      <td>0</td>\n",
       "      <td>0</td>\n",
       "    </tr>\n",
       "    <tr>\n",
       "      <th>1</th>\n",
       "      <td>0</td>\n",
       "      <td>0</td>\n",
       "      <td>0</td>\n",
       "      <td>1</td>\n",
       "      <td>0</td>\n",
       "      <td>1</td>\n",
       "      <td>0</td>\n",
       "      <td>1</td>\n",
       "      <td>0</td>\n",
       "      <td>1</td>\n",
       "    </tr>\n",
       "    <tr>\n",
       "      <th>2</th>\n",
       "      <td>0</td>\n",
       "      <td>0</td>\n",
       "      <td>0</td>\n",
       "      <td>0</td>\n",
       "      <td>0</td>\n",
       "      <td>0</td>\n",
       "      <td>1</td>\n",
       "      <td>1</td>\n",
       "      <td>0</td>\n",
       "      <td>0</td>\n",
       "    </tr>\n",
       "    <tr>\n",
       "      <th>3</th>\n",
       "      <td>0</td>\n",
       "      <td>0</td>\n",
       "      <td>0</td>\n",
       "      <td>1</td>\n",
       "      <td>0</td>\n",
       "      <td>1</td>\n",
       "      <td>0</td>\n",
       "      <td>1</td>\n",
       "      <td>0</td>\n",
       "      <td>1</td>\n",
       "    </tr>\n",
       "    <tr>\n",
       "      <th>4</th>\n",
       "      <td>0</td>\n",
       "      <td>0</td>\n",
       "      <td>1</td>\n",
       "      <td>0</td>\n",
       "      <td>0</td>\n",
       "      <td>1</td>\n",
       "      <td>0</td>\n",
       "      <td>1</td>\n",
       "      <td>0</td>\n",
       "      <td>0</td>\n",
       "    </tr>\n",
       "  </tbody>\n",
       "</table>\n",
       "</div>"
      ],
      "text/plain": [
       "   NewBMI_Obesity 1  NewBMI_Obesity 2  NewBMI_Obesity 3  NewBMI_Overweight  \\\n",
       "0                 1                 0                 0                  0   \n",
       "1                 0                 0                 0                  1   \n",
       "2                 0                 0                 0                  0   \n",
       "3                 0                 0                 0                  1   \n",
       "4                 0                 0                 1                  0   \n",
       "\n",
       "   NewBMI_Underweight  NewGlucose_Normal  NewGlucose_Prediabetes  \\\n",
       "0                   0                  0                       1   \n",
       "1                   0                  1                       0   \n",
       "2                   0                  0                       1   \n",
       "3                   0                  1                       0   \n",
       "4                   0                  1                       0   \n",
       "\n",
       "   NewBP_Normal  NewBP_Prehypertension  NewTSF_Normal  \n",
       "0             1                      0              0  \n",
       "1             1                      0              1  \n",
       "2             1                      0              0  \n",
       "3             1                      0              1  \n",
       "4             1                      0              0  "
      ]
     },
     "execution_count": 22,
     "metadata": {},
     "output_type": "execute_result"
    }
   ],
   "source": [
    "categorical_df = pd.get_dummies(diabetes, columns = [\"NewBMI\", \"NewGlucose\", \"NewBP\", \"NewTSF\"], drop_first = True)\n",
    "categorical_df = categorical_df.drop(diabetes.columns, axis=1, errors='ignore')\n",
    "categorical_df.head()"
   ]
  },
  {
   "cell_type": "markdown",
   "metadata": {},
   "source": [
    "# 3. Outcome Prediction <a id='3'></a>\n",
    "## Supervised Learning\n",
    "\n",
    "**Main Goal:** Observe the comparison between multiple algorithms which have the same objective: predict the outcome based on the other features.\n",
    "\n",
    "We will separate this part into two phases:\n",
    "- algorithm analysis comparison,\n",
    "- tuning of one of the algorithms, in order to get the best results out of it. "
   ]
  },
  {
   "cell_type": "code",
   "execution_count": 23,
   "metadata": {},
   "outputs": [],
   "source": [
    "from sklearn.preprocessing import scale, StandardScaler\n",
    "from sklearn.preprocessing import RobustScaler\n",
    "from sklearn.model_selection import train_test_split, GridSearchCV, cross_val_score\n",
    "from sklearn.metrics import confusion_matrix, accuracy_score, mean_squared_error, r2_score, roc_auc_score, roc_curve, classification_report\n",
    "from sklearn.linear_model import LogisticRegression\n",
    "from sklearn.neighbors import KNeighborsClassifier\n",
    "from sklearn.svm import SVC\n",
    "from sklearn.neural_network import MLPClassifier\n",
    "from sklearn.tree import DecisionTreeClassifier\n",
    "from sklearn.ensemble import RandomForestClassifier\n",
    "from sklearn.ensemble import GradientBoostingClassifier\n",
    "from sklearn.model_selection import KFold, cross_validate"
   ]
  },
  {
   "cell_type": "markdown",
   "metadata": {},
   "source": [
    "## Algorithm Comparison"
   ]
  },
  {
   "cell_type": "markdown",
   "metadata": {},
   "source": [
    "The objective now is to test some possible algorithms which predict the Outcome for a given patient. \n",
    "\n",
    "------------------------------------------------------------------------------------------------------------------\n",
    "\n",
    "The dataset is preprocessed: "
   ]
  },
  {
   "cell_type": "code",
   "execution_count": 43,
   "metadata": {},
   "outputs": [
    {
     "data": {
      "text/html": [
       "<div>\n",
       "<style scoped>\n",
       "    .dataframe tbody tr th:only-of-type {\n",
       "        vertical-align: middle;\n",
       "    }\n",
       "\n",
       "    .dataframe tbody tr th {\n",
       "        vertical-align: top;\n",
       "    }\n",
       "\n",
       "    .dataframe thead th {\n",
       "        text-align: right;\n",
       "    }\n",
       "</style>\n",
       "<table border=\"1\" class=\"dataframe\">\n",
       "  <thead>\n",
       "    <tr style=\"text-align: right;\">\n",
       "      <th></th>\n",
       "      <th>Pregnancies</th>\n",
       "      <th>Glucose</th>\n",
       "      <th>BloodPressure</th>\n",
       "      <th>SkinThickness</th>\n",
       "      <th>Insulin</th>\n",
       "      <th>BMI</th>\n",
       "      <th>DiabetesPedigreeFunction</th>\n",
       "      <th>Age</th>\n",
       "      <th>NewBMI_Obesity 1</th>\n",
       "      <th>NewBMI_Obesity 2</th>\n",
       "      <th>NewBMI_Obesity 3</th>\n",
       "      <th>NewBMI_Overweight</th>\n",
       "      <th>NewBMI_Underweight</th>\n",
       "      <th>NewGlucose_Normal</th>\n",
       "      <th>NewGlucose_Prediabetes</th>\n",
       "      <th>NewBP_Normal</th>\n",
       "      <th>NewBP_Prehypertension</th>\n",
       "      <th>NewTSF_Normal</th>\n",
       "    </tr>\n",
       "  </thead>\n",
       "  <tbody>\n",
       "    <tr>\n",
       "      <th>0</th>\n",
       "      <td>0.6</td>\n",
       "      <td>0.765432</td>\n",
       "      <td>0.000</td>\n",
       "      <td>1.000000</td>\n",
       "      <td>1.000000</td>\n",
       "      <td>0.170330</td>\n",
       "      <td>0.665359</td>\n",
       "      <td>1.235294</td>\n",
       "      <td>1</td>\n",
       "      <td>0</td>\n",
       "      <td>0</td>\n",
       "      <td>0</td>\n",
       "      <td>0</td>\n",
       "      <td>0</td>\n",
       "      <td>1</td>\n",
       "      <td>1</td>\n",
       "      <td>0</td>\n",
       "      <td>0</td>\n",
       "    </tr>\n",
       "    <tr>\n",
       "      <th>1</th>\n",
       "      <td>-0.4</td>\n",
       "      <td>-0.790123</td>\n",
       "      <td>-0.375</td>\n",
       "      <td>0.142857</td>\n",
       "      <td>0.000000</td>\n",
       "      <td>-0.598901</td>\n",
       "      <td>-0.056209</td>\n",
       "      <td>0.117647</td>\n",
       "      <td>0</td>\n",
       "      <td>0</td>\n",
       "      <td>0</td>\n",
       "      <td>1</td>\n",
       "      <td>0</td>\n",
       "      <td>1</td>\n",
       "      <td>0</td>\n",
       "      <td>1</td>\n",
       "      <td>0</td>\n",
       "      <td>1</td>\n",
       "    </tr>\n",
       "    <tr>\n",
       "      <th>2</th>\n",
       "      <td>1.0</td>\n",
       "      <td>1.629630</td>\n",
       "      <td>-0.500</td>\n",
       "      <td>0.571429</td>\n",
       "      <td>1.000000</td>\n",
       "      <td>-0.961538</td>\n",
       "      <td>0.783007</td>\n",
       "      <td>0.176471</td>\n",
       "      <td>0</td>\n",
       "      <td>0</td>\n",
       "      <td>0</td>\n",
       "      <td>0</td>\n",
       "      <td>0</td>\n",
       "      <td>0</td>\n",
       "      <td>1</td>\n",
       "      <td>1</td>\n",
       "      <td>0</td>\n",
       "      <td>0</td>\n",
       "    </tr>\n",
       "    <tr>\n",
       "      <th>3</th>\n",
       "      <td>-0.4</td>\n",
       "      <td>-0.691358</td>\n",
       "      <td>-0.375</td>\n",
       "      <td>-0.714286</td>\n",
       "      <td>-0.126866</td>\n",
       "      <td>-0.434066</td>\n",
       "      <td>-0.537255</td>\n",
       "      <td>-0.470588</td>\n",
       "      <td>0</td>\n",
       "      <td>0</td>\n",
       "      <td>0</td>\n",
       "      <td>1</td>\n",
       "      <td>0</td>\n",
       "      <td>1</td>\n",
       "      <td>0</td>\n",
       "      <td>1</td>\n",
       "      <td>0</td>\n",
       "      <td>1</td>\n",
       "    </tr>\n",
       "    <tr>\n",
       "      <th>4</th>\n",
       "      <td>-0.6</td>\n",
       "      <td>0.493827</td>\n",
       "      <td>-2.000</td>\n",
       "      <td>1.000000</td>\n",
       "      <td>0.977612</td>\n",
       "      <td>1.214286</td>\n",
       "      <td>5.007843</td>\n",
       "      <td>0.235294</td>\n",
       "      <td>0</td>\n",
       "      <td>0</td>\n",
       "      <td>1</td>\n",
       "      <td>0</td>\n",
       "      <td>0</td>\n",
       "      <td>1</td>\n",
       "      <td>0</td>\n",
       "      <td>1</td>\n",
       "      <td>0</td>\n",
       "      <td>0</td>\n",
       "    </tr>\n",
       "  </tbody>\n",
       "</table>\n",
       "</div>"
      ],
      "text/plain": [
       "   Pregnancies   Glucose  BloodPressure  SkinThickness   Insulin       BMI  \\\n",
       "0          0.6  0.765432          0.000       1.000000  1.000000  0.170330   \n",
       "1         -0.4 -0.790123         -0.375       0.142857  0.000000 -0.598901   \n",
       "2          1.0  1.629630         -0.500       0.571429  1.000000 -0.961538   \n",
       "3         -0.4 -0.691358         -0.375      -0.714286 -0.126866 -0.434066   \n",
       "4         -0.6  0.493827         -2.000       1.000000  0.977612  1.214286   \n",
       "\n",
       "   DiabetesPedigreeFunction       Age  NewBMI_Obesity 1  NewBMI_Obesity 2  \\\n",
       "0                  0.665359  1.235294                 1                 0   \n",
       "1                 -0.056209  0.117647                 0                 0   \n",
       "2                  0.783007  0.176471                 0                 0   \n",
       "3                 -0.537255 -0.470588                 0                 0   \n",
       "4                  5.007843  0.235294                 0                 0   \n",
       "\n",
       "   NewBMI_Obesity 3  NewBMI_Overweight  NewBMI_Underweight  NewGlucose_Normal  \\\n",
       "0                 0                  0                   0                  0   \n",
       "1                 0                  1                   0                  1   \n",
       "2                 0                  0                   0                  0   \n",
       "3                 0                  1                   0                  1   \n",
       "4                 1                  0                   0                  1   \n",
       "\n",
       "   NewGlucose_Prediabetes  NewBP_Normal  NewBP_Prehypertension  NewTSF_Normal  \n",
       "0                       1             1                      0              0  \n",
       "1                       0             1                      0              1  \n",
       "2                       1             1                      0              0  \n",
       "3                       0             1                      0              1  \n",
       "4                       0             1                      0              0  "
      ]
     },
     "execution_count": 43,
     "metadata": {},
     "output_type": "execute_result"
    }
   ],
   "source": [
    "y = diabetes[\"Outcome\"]\n",
    "X = diabetes.drop([\"Outcome\"]+NewCols, axis = 1)\n",
    "cols = X.columns\n",
    "index = X.index\n",
    "\n",
    "transformer = RobustScaler().fit(X)\n",
    "X = transformer.transform(X)\n",
    "X = pd.DataFrame(X, columns = cols, index = index)\n",
    "X = pd.concat([X, categorical_df], axis = 1)\n",
    "X.head()"
   ]
  },
  {
   "cell_type": "markdown",
   "metadata": {},
   "source": [
    "------------------------------------------------------------------------------------------------------------------\n",
    "\n",
    "The **selected algorithms** are:\n",
    "- Logistic Regression\n",
    "- k-nearest neighbors classifier\n",
    "- Random Forest Classifier\n",
    "- SVC\n",
    "\n",
    "#### Logistic Regression\n",
    "\n",
    "Logistic regression is a statistical analysis method to predict a binary outcome based on prior observations of a data set.\n",
    "\n",
    "A logistic regression model predicts a dependent data variable by analyzing the relationship between one or more existing independent variables. \n",
    "Based on historical data about earlier outcomes involving the same input criteria, it then scores new cases on their probability of falling into one of two outcome categories.\n",
    "\n",
    "#### k-nearest neighbors classifier\n",
    "KNN algorithm is a simple, easy-to-implement supervised machine learning algorithm that can be used to solve both classification and regression problems; it's used in pattern recognition for the classification of objects based on the characteristics of the objects close to the one considered.\n",
    "\n",
    "KNN for classification works by **finding the distances between a query and all the examples in the data**, selecting the specified number of examples (K) closest to the query, and then voting for the most frequent label. \n",
    "\n",
    "Have to find the right K we run the KNN algorithm several times with different values of K and **choose the K that reduces the number of errors**:\n",
    "- As we decrease the value of K to 1, our predictions become less stable (warning of **overfitting**). \n",
    "- As we increase the value of K, our predictions become more stable due to majority voting, and thus, more likely to make more accurate predictions, but if we begin to see an increasing number of errors (warning of **underfitting**): it is at this point that we know we have pushed the K value too far. \n",
    "\n",
    "The main advantages are: \n",
    "- The algorithm is simple and easy to implement. There’s no need to build a model, tune several parameters, or make additional assumptions. \n",
    "- The algorithm is versatile. It can be used for classification, regression, and search (as we will see in the next section). \n",
    "But: the algorithm gets significantly slower as the number of examples and/or predictors/independent variables increase.\n",
    "\n",
    "#### Random Forest Classifier\n",
    "Random forest is a learning method for classification and regression that **operates by constructing a multitude of decision trees at training time**.\n",
    "\n",
    "A decision tree is a graph of decisions and their possible consequences: \n",
    "- each internal node represents a variable, \n",
    "- an arc towards a child node represents a possible value for that property,\n",
    "- a leaf represents the predicted value for the target variable starting from the values of the other properties, which in the tree is represented by the path from the root node to the leaf node.\n",
    "\n",
    "Random forests generally outperform decision trees because it consists of a large number of individual decision trees that operate as an ensemble:\n",
    "- each individual tree in the random forest spits out a class prediction,\n",
    "- the class with the most votes becomes our model’s prediction. \n",
    "\n",
    "A large number of relatively uncorrelated models (trees) operating as a committee will outperform any of the individual constituent models, indeed **the low correlation between models is the key**. \n",
    "\n",
    "To do that we use **Bootstrap** to create many datasets, each one different from the other and, through Random Subset Feature Selection, we create the decision tree. This will allow us to create them on slightly different datasets and therefore we will have different trees, which however learn something from our dataset. Every single tree is not that good, but together I get  high accuracy. Furthermore, this type of model can be created in parallel.\n",
    "\n",
    "For classification tasks, the output of the random forest is the class selected by most trees.\n",
    "\n",
    "#### SVC\n",
    "\n",
    "A support vector machine (SVM) is a supervised machine learning model that uses classification algorithms for two-group classification problems. After giving an SVM model a set of labeled training data for each category, they’re able to categorize new text.\n",
    "\n",
    "Compared to newer algorithms like neural networks, they have two main advantages: \n",
    "- higher speed,\n",
    "- better performance with a limited number of samples (in the thousands). \n",
    "\n",
    "A support vector machine **takes data points and outputs the hyperplane that best separates the tags**. \n",
    "The hyperplane **is the decision boundary**: anything that falls to one side of it we will classify as blue, and anything that falls to the other as red.\n",
    "\n",
    "The best hyperplane for SVM it’s the one that maximizes the margins from both tags: the hyperplane whose distance to the nearest element of each tag is the largest."
   ]
  },
  {
   "cell_type": "code",
   "execution_count": 44,
   "metadata": {},
   "outputs": [],
   "source": [
    "SEED = 12345\n",
    "\n",
    "models = []\n",
    "models.append(('LR', LogisticRegression(random_state = SEED)))\n",
    "models.append(('KNN', KNeighborsClassifier()))\n",
    "models.append(('RF', RandomForestClassifier(random_state = SEED)))\n",
    "models.append(('SVM', SVC(gamma='auto', random_state = SEED)))"
   ]
  },
  {
   "cell_type": "markdown",
   "metadata": {},
   "source": [
    "------------------------------------------------------------------------------------------------------------------\n",
    "\n",
    "### Cross Validation\n",
    "Data is usually divided into training and validation sets; cross-validation consists in:\n",
    "- splitting the data into k bins,\n",
    "- run k separate experiments, where each:\n",
    "    - uses k-1 bins as training set,\n",
    "    - uses the other remaining bin as validation set,\n",
    "    - train the model.\n",
    "- then average the test results from those k esperiments.\n",
    "\n",
    "Doing so, we used all our data for training and testing; the only con of this method is that requires more computational time.\n",
    "\n",
    "*KFold* and *cross_val_score* functions implement this concept.\n",
    "\n",
    "------------------------------------------------------------------------------------------------------------------\n",
    "\n",
    "### *KFold*\n",
    "Is a cross-validator function that provides train/test indices to split data in train/test sets. \n",
    "\n",
    "In particular, it splits the dataset into k consecutive folds (without shuffling by default).\n",
    "\n",
    "Each fold is then used once as validation while the k - 1 remaining folds form the training set.\n",
    "\n",
    "------------------------------------------------------------------------------------------------------------------\n",
    "\n",
    "### *cross_validate*\n",
    "Evaluate a score by cross-validation, which has the following arguments:\n",
    "\n",
    "- estimator: The object to use to fit the data, in our case the model used.\n",
    "\n",
    "- X: The data to fit. \n",
    "\n",
    "- y: The target variable to try to predict in the case of supervised learning.\n",
    "\n",
    "- cv: **Cross-validation splitting strategy**: in this case, the output of the KFold function.\n",
    "\n",
    "- scoring: metrics to evaluate.\n",
    "\n",
    "#### Metrics\n",
    "\n",
    "- **Balanced Accuracy**: This metric is similar to accuracy, but it takes into account the imbalance in the dataset by calculating the average of recall for each class. This gives a more complete picture of the model's performance for datasets where one class is more important or overrepresented.\n",
    "\n",
    "- **ROC AUC** (Receiver Operating Characteristic Area Under the Curve): This metric is used to evaluate the performance of binary classification models. It is the area under the ROC curve, which plots the true positive rate against the false positive rate. A higher ROC AUC score indicates that the model is better at distinguishing between positive and negative cases.\n",
    "\n",
    "- **Recall**: This metric is also known as sensitivity or the true positive rate. It is the number of true positive predictions divided by the sum of the true positive predictions and false negative predictions. Recall is an important metric when it is important to minimize the number of false negatives, such as in medical diagnosis or fraud detection.\n",
    "\n",
    "- **F1 Score**: This is the harmonic mean of precision and recall, and it is often used when there is a need to balance the trade-off between precision and recall. The F1 score takes both false positives and false negatives into account, making it a more comprehensive measure of performance in situations where it's important to avoid both types of errors."
   ]
  },
  {
   "cell_type": "code",
   "execution_count": 45,
   "metadata": {},
   "outputs": [
    {
     "name": "stdout",
     "output_type": "stream",
     "text": [
      "LR\n",
      "balanced_accuracy: 0.766809\n",
      "roc_auc: 0.873423\n",
      "recall: 0.659769\n",
      "f1: 0.689842\n",
      "\n",
      "\n",
      "KNN\n",
      "balanced_accuracy: 0.806413\n",
      "roc_auc: 0.887315\n",
      "recall: 0.735024\n",
      "f1: 0.746809\n",
      "\n",
      "\n",
      "RF\n",
      "balanced_accuracy: 0.853605\n",
      "roc_auc: 0.935069\n",
      "recall: 0.804767\n",
      "f1: 0.808100\n",
      "\n",
      "\n",
      "SVM\n",
      "balanced_accuracy: 0.828083\n",
      "roc_auc: 0.902685\n",
      "recall: 0.763928\n",
      "f1: 0.770827\n",
      "\n",
      "\n"
     ]
    }
   ],
   "source": [
    "SPLITS = 10\n",
    "\n",
    "names = []\n",
    "\n",
    "metrics = {'balanced_accuracy': 'balanced_accuracy',\n",
    "           'roc_auc': 'roc_auc',\n",
    "           'recall': 'recall',\n",
    "           'f1': 'f1'}\n",
    "\n",
    "results =  {'balanced_accuracy': [],\n",
    "            'roc_auc': [],\n",
    "            'recall': [],\n",
    "            'f1': []}\n",
    "\n",
    "\n",
    "for name, model in models:\n",
    "    kfold = KFold(n_splits = SPLITS)\n",
    "\n",
    "    cv_results = cross_validate(model, X, y, cv = kfold, scoring= metrics)\n",
    "    \n",
    "    names.append(name)\n",
    "    \n",
    "    print(name)\n",
    "    for metric in metrics.keys():\n",
    "        array_converted = [float(x) for x in cv_results['test_'+metric]]\n",
    "        results[metric].append(array_converted)    \n",
    "        print(\"%s: %f\" % (metric, sum(array_converted)/len(array_converted)))\n",
    "    print('\\n')"
   ]
  },
  {
   "cell_type": "code",
   "execution_count": 46,
   "metadata": {
    "scrolled": true
   },
   "outputs": [
    {
     "data": {
      "image/png": "[encoded data removed]",
      "text/plain": [
       "<Figure size 1080x360 with 1 Axes>"
      ]
     },
     "metadata": {
      "needs_background": "light"
     },
     "output_type": "display_data"
    },
    {
     "data": {
      "image/png": "[encoded data removed]",
      "text/plain": [
       "<Figure size 1080x360 with 1 Axes>"
      ]
     },
     "metadata": {
      "needs_background": "light"
     },
     "output_type": "display_data"
    },
    {
     "data": {
      "image/png": "[encoded data removed]",
      "text/plain": [
       "<Figure size 1080x360 with 1 Axes>"
      ]
     },
     "metadata": {
      "needs_background": "light"
     },
     "output_type": "display_data"
    },
    {
     "data": {
      "image/png": "[encoded data removed]",
      "text/plain": [
       "<Figure size 1080x360 with 1 Axes>"
      ]
     },
     "metadata": {
      "needs_background": "light"
     },
     "output_type": "display_data"
    }
   ],
   "source": [
    "for metric in metrics.keys():\n",
    "    # boxplot algorithm comparison\n",
    "    fig = plt.figure(figsize=(15,5))\n",
    "    fig.suptitle(metric + ' - algorithm comparison')\n",
    "    ax = fig.add_subplot(111)\n",
    "    plt.boxplot(results[metric])\n",
    "    ax.set_xticklabels(names)\n",
    "    plt.show()"
   ]
  },
  {
   "cell_type": "markdown",
   "metadata": {},
   "source": [
    "**Random forest is the model with the best results**, followed by SVM, KNN and then LR.\n",
    "\n",
    "It achieved a high level of accuracy and balanced accuracy.\n",
    "The ROC/AUC score is also quite high, which indicates that the model is capable of differentiating between positive and negative cases in a reliable way. \n",
    "The recall score indicates that the model is able to correctly identify positive cases with a relatively high frequency.\n",
    "\n",
    "Let's see how much its accuracy can be incremented by its tuning.\n",
    "\n",
    "------------------------------------------------------------------------------------------------------------------\n",
    "\n",
    "## 4. Random Forests Tuning <a id='4'></a>\n",
    "This model is the chosen one for tuning because of its good results and its properties.\n",
    "\n",
    "As a matter of fact, this learning algorithm is often used in medical datasets due to its several advantages:\n",
    "\n",
    "1. **Handle missing values**: Random forests can handle missing values in the dataset without requiring imputation, making it suitable for datasets with missing data, which is common in medical data.\n",
    "\n",
    "2. **Model interpretability**: The decision trees that make up a random forest can provide some level of interpretability, which is important for medical applications where understanding why a particular decision was made is critical.\n",
    "\n",
    "3. **Ability to handle non-linear relationships**: Random forests can handle non-linear relationships between features, which is important in medical datasets where there can be complex relationships between variables.\n",
    "\n",
    "4. **Robust to overfitting**: Random forests are less likely to overfit the data compared to decision trees, which is critical in medical applications, where the model needs to generalize well to new data.\n",
    "\n",
    "------------------------------------------------------------------------------------------------------------------\n",
    "\n",
    "#### GridSearchCV\n",
    "GridSearchCV is used to perform **hyperparameter tuning**. The function takes in a machine learning model, a set of hyperparameters to search over, and a scoring metric. \n",
    "\n",
    "It then performs a **brute-force search** over the hyperparameter space, training and evaluating the model for each combination of hyperparameters.\n",
    "\n",
    "The main idea is to **automate the process of hyperparameter tuning**, so that you don't have to manually try out different combinations of hyperparameters. Instead, you specify the hyperparameters you want to search over, and the function will try out all possible combinations and return the best set of hyperparameters based on the scoring metric you specified.\n",
    "\n",
    "- n_estimators = number of trees in the forest\n",
    "- max_features = max number of features considered for splitting a node\n",
    "- max_depth = max number of levels in each decision tree\n",
    "- min_samples_split = min number of data points placed in a node before the node is split\n",
    "- min_samples_leaf = min number of data points allowed in a leaf node"
   ]
  },
  {
   "cell_type": "code",
   "execution_count": 47,
   "metadata": {
    "scrolled": true
   },
   "outputs": [
    {
     "name": "stdout",
     "output_type": "stream",
     "text": [
      "{'n_estimators': [100, 500, 1000], 'max_features': [2, 5, 7], 'max_depth': [None, 5, 25], 'min_samples_split': [2, 5, 10], 'min_samples_leaf': [1, 5, 15]}\n"
     ]
    }
   ],
   "source": [
    "# Number of trees in random forest\n",
    "n_estimators = [100, 500, 1000]\n",
    "# Number of features to consider at every split\n",
    "max_features = [2, 5, 7]\n",
    "# Maximum number of levels in tree\n",
    "max_depth = [None, 5, 25]\n",
    "# Minimum number of samples required to split a node\n",
    "min_samples_split = [2, 5, 10]\n",
    "# Minimum number of samples required at each leaf node\n",
    "min_samples_leaf = [1, 5, 15]\n",
    "# Create the random grid\n",
    "rf_params = {'n_estimators': n_estimators,\n",
    "               'max_features': max_features,\n",
    "               'max_depth': max_depth,\n",
    "               'min_samples_split': min_samples_split,\n",
    "               'min_samples_leaf': min_samples_leaf}\n",
    "print(rf_params)"
   ]
  },
  {
   "cell_type": "code",
   "execution_count": 29,
   "metadata": {},
   "outputs": [
    {
     "name": "stdout",
     "output_type": "stream",
     "text": [
      "Fitting 10 folds for each of 243 candidates, totalling 2430 fits\n"
     ]
    },
    {
     "data": {
      "text/plain": [
       "{'max_depth': None,\n",
       " 'max_features': 7,\n",
       " 'min_samples_leaf': 5,\n",
       " 'min_samples_split': 2,\n",
       " 'n_estimators': 500}"
      ]
     },
     "execution_count": 29,
     "metadata": {},
     "output_type": "execute_result"
    }
   ],
   "source": [
    "rf_model = RandomForestClassifier(random_state = SEED)\n",
    "\n",
    "gs_cv = GridSearchCV(rf_model, \n",
    "                    rf_params,\n",
    "                    cv = kfold,\n",
    "                    n_jobs = -1,\n",
    "                    verbose = 2).fit(X, y)\n",
    "\n",
    "gs_cv.best_params_"
   ]
  },
  {
   "cell_type": "markdown",
   "metadata": {},
   "source": [
    "The best parameters are so identified and the next step is to try the accuracy of RF with them.\n",
    "\n",
    "------------------------------------------------------------------------------------------------------------------\n",
    "\n",
    "The model is trained again with the **best parameters** and, again, **cross-validation**."
   ]
  },
  {
   "cell_type": "code",
   "execution_count": 48,
   "metadata": {},
   "outputs": [
    {
     "name": "stdout",
     "output_type": "stream",
     "text": [
      "balanced_accuracy: 0.870398\n",
      "roc_auc: 0.942541\n",
      "recall: 0.834791\n",
      "f1: 0.824747\n"
     ]
    },
    {
     "name": "stderr",
     "output_type": "stream",
     "text": [
      "C:\\Users\\loren\\AppData\\Local\\Temp/ipykernel_4984/3615334196.py:17: UserWarning: FixedFormatter should only be used together with FixedLocator\n",
      "  ax.set_xticklabels(names)\n"
     ]
    },
    {
     "data": {
      "image/png": "[encoded data removed]",
      "text/plain": [
       "<Figure size 1080x360 with 1 Axes>"
      ]
     },
     "metadata": {
      "needs_background": "light"
     },
     "output_type": "display_data"
    }
   ],
   "source": [
    "rf_tuned = RandomForestClassifier(**gs_cv.best_params_)\n",
    "rf_tuned = rf_tuned.fit(X,y)\n",
    "\n",
    "results = []\n",
    "names = []\n",
    "\n",
    "final_results = cross_validate(rf_tuned, X, y, cv = kfold, scoring= metrics)\n",
    "for metric in metrics.keys():\n",
    "    array_converted = [float(x) for x in final_results['test_'+metric]]\n",
    "    print(\"%s: %f\" % (metric, sum(array_converted)/len(array_converted)))\n",
    "    results.append(array_converted)    \n",
    "    names.append(metric)\n",
    "\n",
    "# boxplot metrics comparison\n",
    "fig = plt.figure(figsize=(15,5))\n",
    "ax = fig.add_subplot(111)\n",
    "ax.set_xticklabels(names)\n",
    "ax.set_ylim([0.5,1])\n",
    "plt.boxplot(results)\n",
    "plt.savefig(\"Boxplot Metrics - With Insulin\", bbox_inches='tight', dpi=300)"
   ]
  },
  {
   "cell_type": "markdown",
   "metadata": {},
   "source": [
    "The **score of all metrics increased**, but not significantly.\n",
    "\n",
    "------------------------------------------------------------------------------------------------------------------\n",
    "\n",
    "It's also possible to analyze **Variables' Severity Levels**, in fact, not all variables are equally important in making  predictions, and also in this case some variables had more impact on the outcome than others."
   ]
  },
  {
   "cell_type": "code",
   "execution_count": 49,
   "metadata": {},
   "outputs": [
    {
     "data": {
      "image/png": "[encoded data removed]",
      "text/plain": [
       "<Figure size 432x288 with 1 Axes>"
      ]
     },
     "metadata": {
      "needs_background": "light"
     },
     "output_type": "display_data"
    }
   ],
   "source": [
    "feature_imp = pd.Series(rf_tuned.feature_importances_,\n",
    "                        index=X.columns).sort_values(ascending=False)\n",
    "\n",
    "sns.barplot(x=feature_imp, y=feature_imp.index)\n",
    "plt.xlabel('Significance Score Of Variables')\n",
    "plt.ylabel('Variables')\n",
    "plt.title(\"Variable Severity Levels\")\n",
    "plt.savefig(\"Variable Severity Levels - With Insulin\", bbox_inches='tight', dpi=300)"
   ]
  },
  {
   "cell_type": "markdown",
   "metadata": {},
   "source": [
    "The most important features for predicting diabete are Insulin, Skin Thickness, Glucose, Age and BMI, Pregnancies and Blood Pressure; also some features coming from FE contributed to the scoring of RF, which are the ones classifying Glucose and TSF.\n",
    "\n",
    "------------------------------------------------------------------------------------------------------------------\n",
    "\n",
    "## Outcome Prediction without Insulin\n",
    "\n",
    "The last experiment I would like to do is to erase Insulin feature from the dataset and analyse its impact."
   ]
  },
  {
   "cell_type": "code",
   "execution_count": 40,
   "metadata": {},
   "outputs": [
    {
     "data": {
      "text/plain": [
       "{'max_depth': None,\n",
       " 'max_features': 7,\n",
       " 'min_samples_leaf': 15,\n",
       " 'min_samples_split': 2,\n",
       " 'n_estimators': 1000}"
      ]
     },
     "execution_count": 40,
     "metadata": {},
     "output_type": "execute_result"
    }
   ],
   "source": [
    "y = diabetes[\"Outcome\"]\n",
    "X = diabetes.drop([\"Outcome\"]+NewCols+[\"Insulin\"], axis = 1)\n",
    "cols = X.columns\n",
    "index = X.index\n",
    "\n",
    "transformer = RobustScaler().fit(X)\n",
    "X = transformer.transform(X)\n",
    "X = pd.DataFrame(X, columns = cols, index = index)\n",
    "X = pd.concat([X, categorical_df], axis = 1)\n",
    "\n",
    "rf_model = RandomForestClassifier(random_state = SEED)\n",
    "\n",
    "gs_cv = GridSearchCV(rf_model, \n",
    "                    rf_params,\n",
    "                    cv = kfold,\n",
    "                    n_jobs = -1,\n",
    "                    verbose = 2).fit(X, y)\n",
    "\n",
    "gs_cv.best_params_"
   ]
  },
  {
   "cell_type": "code",
   "execution_count": 41,
   "metadata": {},
   "outputs": [
    {
     "name": "stdout",
     "output_type": "stream",
     "text": [
      "balanced_accuracy: 0.802558\n",
      "roc_auc: 0.890795\n",
      "recall: 0.709117\n",
      "f1: 0.744627\n"
     ]
    },
    {
     "name": "stderr",
     "output_type": "stream",
     "text": [
      "C:\\Users\\loren\\AppData\\Local\\Temp/ipykernel_4984/1174244116.py:17: UserWarning: FixedFormatter should only be used together with FixedLocator\n",
      "  ax.set_xticklabels(names)\n"
     ]
    },
    {
     "data": {
      "image/png": "[encoded data removed]",
      "text/plain": [
       "<Figure size 1080x360 with 1 Axes>"
      ]
     },
     "metadata": {
      "needs_background": "light"
     },
     "output_type": "display_data"
    },
    {
     "data": {
      "image/png": "[encoded data removed]",
      "text/plain": [
       "<Figure size 432x288 with 1 Axes>"
      ]
     },
     "metadata": {
      "needs_background": "light"
     },
     "output_type": "display_data"
    }
   ],
   "source": [
    "results = []\n",
    "names = []\n",
    "\n",
    "rf_tuned = RandomForestClassifier(**gs_cv.best_params_)\n",
    "rf_tuned = rf_tuned.fit(X,y)\n",
    "cv_results = cross_validate(rf_tuned, X, y, cv = 10, scoring= metrics)\n",
    "\n",
    "for metric in metrics.keys():\n",
    "    array_converted = [float(x) for x in cv_results['test_'+metric]]\n",
    "    results.append(array_converted)    \n",
    "    print(\"%s: %f\" % (metric, sum(array_converted)/len(array_converted)))\n",
    "    names.append(metric)\n",
    "\n",
    "# boxplot algorithm comparison\n",
    "fig = plt.figure(figsize=(15,5))\n",
    "ax = fig.add_subplot(111)\n",
    "ax.set_xticklabels(names)\n",
    "ax.set_ylim([0.5,1])\n",
    "plt.boxplot(results)\n",
    "plt.savefig(\"Boxplot Metrics - Without Insulin\", bbox_inches='tight', dpi=300)\n",
    "plt.show()\n",
    "\n",
    "feature_imp = pd.Series(rf_tuned.feature_importances_,\n",
    "                        index=X.columns).sort_values(ascending=False)\n",
    "\n",
    "sns.barplot(x=feature_imp, y=feature_imp.index)\n",
    "plt.xlabel('Significance Score Of Variables')\n",
    "plt.ylabel('Variables')\n",
    "plt.title(\"Variable Severity Levels\")\n",
    "plt.savefig(\"Variable Severity Levels - Without Insulin\", bbox_inches='tight', dpi=300)"
   ]
  },
  {
   "cell_type": "markdown",
   "metadata": {},
   "source": [
    "Metrics' score diminuished roughly by 5-10%, the impact of features on the prediction is more balanced.\n",
    "\n",
    "------------------------------------------------------------------------------------------------------------------\n",
    "\n",
    "# 5. Final Comments <a id='5'></a>\n",
    "- 1) A first analysis shows that **many columns of the dataset have a correlation with the Outcome**: analyzing some of them can reveal the relationship between this feature and the probability of having diabete for a woman.\n",
    "\n",
    "------------------------------------------------------------------------------------------------------------------\n",
    "\n",
    "- 2) The algorithm which has the best results is **Random Forest**.\n",
    "\n",
    "------------------------------------------------------------------------------------------------------------------\n",
    "\n",
    "- 3) **Random Forest tuning** doesn't increment significatively the accuracy of the model.\n",
    "\n",
    "------------------------------------------------------------------------------------------------------------------\n",
    "\n",
    "- 4) The five most important features for predicting diabete are **Insulin, Glucose, Skin Thickness, Age and BMI**."
   ]
  }
 ],
 "metadata": {
  "colab": {
   "collapsed_sections": [],
   "name": "IDS_lab1.ipynb",
   "provenance": []
  },
  "kernelspec": {
   "display_name": "Python 3 (ipykernel)",
   "language": "python",
   "name": "python3"
  },
  "language_info": {
   "codemirror_mode": {
    "name": "ipython",
    "version": 3
   },
   "file_extension": ".py",
   "mimetype": "text/x-python",
   "name": "python",
   "nbconvert_exporter": "python",
   "pygments_lexer": "ipython3",
   "version": "3.9.7"
  }
 },
 "nbformat": 4,
 "nbformat_minor": 1
}
